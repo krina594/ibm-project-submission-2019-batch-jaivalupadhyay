{
 "cells": [
  {
   "cell_type": "code",
   "execution_count": 72,
   "metadata": {
    "collapsed": true
   },
   "outputs": [],
   "source": []
  },
  {
   "cell_type": "code",
   "execution_count": 209,
   "outputs": [],
   "source": [
    "# For reading data\n",
    "import pandas as pd\n",
    "# For performing text preprocessing\n",
    "from nltk.stem import PorterStemmer, LancasterStemmer, SnowballStemmer, WordNetLemmatizer\n",
    "from nltk.corpus import stopwords\n",
    "from string import punctuation\n",
    "import re\n",
    "# For embedding the words\n",
    "from sklearn.feature_extraction.text import TfidfVectorizer\n",
    "# For encoding the targets\n",
    "from sklearn.preprocessing import LabelEncoder\n",
    "# For creating train, test and validation sets\n",
    "from sklearn.model_selection import train_test_split\n",
    "# For implementing machine learning models\n",
    "from sklearn.linear_model import LogisticRegression\n",
    "from sklearn.tree import DecisionTreeClassifier\n",
    "from sklearn.ensemble import RandomForestClassifier,GradientBoostingClassifier, AdaBoostClassifier\n",
    "from sklearn.svm import SVC\n",
    "from xgboost import XGBClassifier\n",
    "# For evaluating the models\n",
    "from sklearn.metrics import classification_report, accuracy_score\n",
    "# For saving the model for future use\n",
    "import joblib"
   ],
   "metadata": {
    "collapsed": false
   }
  },
  {
   "cell_type": "code",
   "execution_count": 210,
   "outputs": [],
   "source": [
    "data = pd.read_csv('C:/Users/krina/OneDrive/Desktop/SEM-8/naukri_com-job_sample.csv')"
   ],
   "metadata": {
    "collapsed": false
   }
  },
  {
   "cell_type": "code",
   "execution_count": 211,
   "outputs": [
    {
     "data": {
      "text/plain": "                                      company  \\\n0                            MM Media Pvt Ltd   \n1                          find live infotech   \n2         Softtech Career Infosystem Pvt. Ltd   \n3                      Onboard HRServices LLP   \n4  Spire Technologies and Solutions Pvt. Ltd.   \n\n                                           education   experience  \\\n0  UG: B.Tech/B.E. - Any Specialization PG:Any Po...    0 - 1 yrs   \n1  UG: B.Tech/B.E. - Any Specialization PG:MBA/PG...    0 - 0 yrs   \n2  UG: Any Graduate - Any Specialization PG:Any P...    4 - 8 yrs   \n3  UG: Any Graduate - Any Specialization PG:CA Do...  11 - 15 yrs   \n4  UG: B.Tech/B.E. - Any Specialization PG:Any Po...    6 - 8 yrs   \n\n                                   industry  \\\n0          Media / Entertainment / Internet   \n1  Advertising / PR / MR / Event Management   \n2           IT-Software / Software Services   \n3    Banking / Financial Services / Broking   \n4           IT-Software / Software Services   \n\n                                      jobdescription         jobid  \\\n0  Job Description   Send me Jobs like this Quali...  210516002263   \n1  Job Description   Send me Jobs like this Quali...  210516002391   \n2  Job Description   Send me Jobs like this - as ...  101016900534   \n3  Job Description   Send me Jobs like this - Inv...   81016900536   \n4  Job Description   Send me Jobs like this Pleas...  120916002122   \n\n                                 joblocation_address  \\\n0                                            Chennai   \n1                                            Chennai   \n2                                          Bengaluru   \n3  Mumbai, Bengaluru, Kolkata, Chennai, Coimbator...   \n4                                          Bengaluru   \n\n                                   jobtitle  numberofpositions  \\\n0  Walkin Data Entry Operator (night Shift)                NaN   \n1        Work Based Onhome Based Part Time.               60.0   \n2                    Pl/sql Developer - SQL                NaN   \n3    Manager/ad/partner - Indirect Tax - CA                NaN   \n4           JAVA Technical Lead (6-8 yrs) -                4.0   \n\n                          payrate                   postdate site_name  \\\n0         1,50,000 - 2,25,000 P.A  2016-05-21 19:30:00 +0000       NaN   \n1  1,50,000 - 2,50,000 P.A. 20000  2016-05-21 19:30:00 +0000       NaN   \n2      Not Disclosed by Recruiter  2016-10-13 16:20:55 +0000       NaN   \n3      Not Disclosed by Recruiter  2016-10-13 16:20:55 +0000       NaN   \n4      Not Disclosed by Recruiter  2016-10-13 16:20:55 +0000       NaN   \n\n                                  skills                           uniq_id  \n0                                   ITES  43b19632647068535437c774b6ca6cf8  \n1                              Marketing  d4c72325e57f89f364812b5ed5a795f0  \n2  IT Software - Application Programming  c47df6f4cfdf5b46f1fd713ba61b9eba  \n3                               Accounts  115d28f140f694dd1cc61c53d03c66ae  \n4  IT Software - Application Programming  a12553fc03bc7bcced8b1bb8963f97b4  ",
      "text/html": "<div>\n<style scoped>\n    .dataframe tbody tr th:only-of-type {\n        vertical-align: middle;\n    }\n\n    .dataframe tbody tr th {\n        vertical-align: top;\n    }\n\n    .dataframe thead th {\n        text-align: right;\n    }\n</style>\n<table border=\"1\" class=\"dataframe\">\n  <thead>\n    <tr style=\"text-align: right;\">\n      <th></th>\n      <th>company</th>\n      <th>education</th>\n      <th>experience</th>\n      <th>industry</th>\n      <th>jobdescription</th>\n      <th>jobid</th>\n      <th>joblocation_address</th>\n      <th>jobtitle</th>\n      <th>numberofpositions</th>\n      <th>payrate</th>\n      <th>postdate</th>\n      <th>site_name</th>\n      <th>skills</th>\n      <th>uniq_id</th>\n    </tr>\n  </thead>\n  <tbody>\n    <tr>\n      <th>0</th>\n      <td>MM Media Pvt Ltd</td>\n      <td>UG: B.Tech/B.E. - Any Specialization PG:Any Po...</td>\n      <td>0 - 1 yrs</td>\n      <td>Media / Entertainment / Internet</td>\n      <td>Job Description   Send me Jobs like this Quali...</td>\n      <td>210516002263</td>\n      <td>Chennai</td>\n      <td>Walkin Data Entry Operator (night Shift)</td>\n      <td>NaN</td>\n      <td>1,50,000 - 2,25,000 P.A</td>\n      <td>2016-05-21 19:30:00 +0000</td>\n      <td>NaN</td>\n      <td>ITES</td>\n      <td>43b19632647068535437c774b6ca6cf8</td>\n    </tr>\n    <tr>\n      <th>1</th>\n      <td>find live infotech</td>\n      <td>UG: B.Tech/B.E. - Any Specialization PG:MBA/PG...</td>\n      <td>0 - 0 yrs</td>\n      <td>Advertising / PR / MR / Event Management</td>\n      <td>Job Description   Send me Jobs like this Quali...</td>\n      <td>210516002391</td>\n      <td>Chennai</td>\n      <td>Work Based Onhome Based Part Time.</td>\n      <td>60.0</td>\n      <td>1,50,000 - 2,50,000 P.A. 20000</td>\n      <td>2016-05-21 19:30:00 +0000</td>\n      <td>NaN</td>\n      <td>Marketing</td>\n      <td>d4c72325e57f89f364812b5ed5a795f0</td>\n    </tr>\n    <tr>\n      <th>2</th>\n      <td>Softtech Career Infosystem Pvt. Ltd</td>\n      <td>UG: Any Graduate - Any Specialization PG:Any P...</td>\n      <td>4 - 8 yrs</td>\n      <td>IT-Software / Software Services</td>\n      <td>Job Description   Send me Jobs like this - as ...</td>\n      <td>101016900534</td>\n      <td>Bengaluru</td>\n      <td>Pl/sql Developer - SQL</td>\n      <td>NaN</td>\n      <td>Not Disclosed by Recruiter</td>\n      <td>2016-10-13 16:20:55 +0000</td>\n      <td>NaN</td>\n      <td>IT Software - Application Programming</td>\n      <td>c47df6f4cfdf5b46f1fd713ba61b9eba</td>\n    </tr>\n    <tr>\n      <th>3</th>\n      <td>Onboard HRServices LLP</td>\n      <td>UG: Any Graduate - Any Specialization PG:CA Do...</td>\n      <td>11 - 15 yrs</td>\n      <td>Banking / Financial Services / Broking</td>\n      <td>Job Description   Send me Jobs like this - Inv...</td>\n      <td>81016900536</td>\n      <td>Mumbai, Bengaluru, Kolkata, Chennai, Coimbator...</td>\n      <td>Manager/ad/partner - Indirect Tax - CA</td>\n      <td>NaN</td>\n      <td>Not Disclosed by Recruiter</td>\n      <td>2016-10-13 16:20:55 +0000</td>\n      <td>NaN</td>\n      <td>Accounts</td>\n      <td>115d28f140f694dd1cc61c53d03c66ae</td>\n    </tr>\n    <tr>\n      <th>4</th>\n      <td>Spire Technologies and Solutions Pvt. Ltd.</td>\n      <td>UG: B.Tech/B.E. - Any Specialization PG:Any Po...</td>\n      <td>6 - 8 yrs</td>\n      <td>IT-Software / Software Services</td>\n      <td>Job Description   Send me Jobs like this Pleas...</td>\n      <td>120916002122</td>\n      <td>Bengaluru</td>\n      <td>JAVA Technical Lead (6-8 yrs) -</td>\n      <td>4.0</td>\n      <td>Not Disclosed by Recruiter</td>\n      <td>2016-10-13 16:20:55 +0000</td>\n      <td>NaN</td>\n      <td>IT Software - Application Programming</td>\n      <td>a12553fc03bc7bcced8b1bb8963f97b4</td>\n    </tr>\n  </tbody>\n</table>\n</div>"
     },
     "execution_count": 211,
     "metadata": {},
     "output_type": "execute_result"
    }
   ],
   "source": [
    "data.head(5)"
   ],
   "metadata": {
    "collapsed": false
   }
  },
  {
   "cell_type": "code",
   "execution_count": 212,
   "outputs": [
    {
     "data": {
      "text/plain": "company                    4\neducation               1996\nexperience                 4\nindustry                   5\njobdescription             4\njoblocation_address      501\nnumberofpositions      17536\npayrate                   97\npostdate                  23\nsite_name              18013\nskills                   528\ndtype: int64"
     },
     "execution_count": 212,
     "metadata": {},
     "output_type": "execute_result"
    }
   ],
   "source": [
    "data.isnull().sum()[data.isnull().sum()>0]"
   ],
   "metadata": {
    "collapsed": false
   }
  },
  {
   "cell_type": "code",
   "execution_count": 213,
   "outputs": [],
   "source": [
    "data.drop(['numberofpositions','site_name'],axis=1,inplace=True)"
   ],
   "metadata": {
    "collapsed": false
   }
  },
  {
   "cell_type": "code",
   "execution_count": 214,
   "outputs": [],
   "source": [
    "from sklearn.impute import SimpleImputer\n",
    "to_fill = ['education', 'skills']\n",
    "for col in to_fill:\n",
    "    imputer = SimpleImputer(strategy='most_frequent')\n",
    "    data[col] = imputer.fit_transform(data[[col]])"
   ],
   "metadata": {
    "collapsed": false
   }
  },
  {
   "cell_type": "code",
   "execution_count": 214,
   "outputs": [],
   "source": [],
   "metadata": {
    "collapsed": false
   }
  },
  {
   "cell_type": "code",
   "execution_count": 215,
   "outputs": [
    {
     "data": {
      "text/plain": "company                  4\nexperience               4\nindustry                 5\njobdescription           4\njoblocation_address    501\npayrate                 97\npostdate                23\ndtype: int64"
     },
     "execution_count": 215,
     "metadata": {},
     "output_type": "execute_result"
    }
   ],
   "source": [
    "data.isnull().sum()[data.isnull().sum()>0]"
   ],
   "metadata": {
    "collapsed": false
   }
  },
  {
   "cell_type": "code",
   "execution_count": 216,
   "outputs": [
    {
     "data": {
      "text/plain": "(111, 12)"
     },
     "execution_count": 216,
     "metadata": {},
     "output_type": "execute_result"
    }
   ],
   "source": [
    "data[data['experience'] == 'Not Mentioned'].shape"
   ],
   "metadata": {
    "collapsed": false
   }
  },
  {
   "cell_type": "code",
   "execution_count": 217,
   "outputs": [],
   "source": [
    "data = data[data['experience'] != 'Not Mentioned']"
   ],
   "metadata": {
    "collapsed": false
   }
  },
  {
   "cell_type": "code",
   "execution_count": 218,
   "outputs": [],
   "source": [
    "experience_lower = []\n",
    "experience_upper = []\n",
    "invalid = []\n",
    "for idx, row in data.iterrows():\n",
    "    try:\n",
    "        text = re.sub('yrs', '', row['experience'])\n",
    "        splits = text.split('-')\n",
    "        experience_lower.append(int(splits[0]))\n",
    "        experience_upper.append(int(splits[1]))\n",
    "    except:\n",
    "        invalid.append(row['experience'])"
   ],
   "metadata": {
    "collapsed": false
   }
  },
  {
   "cell_type": "code",
   "execution_count": 219,
   "outputs": [],
   "source": [
    "data = data[~data['experience'].isin(invalid)]"
   ],
   "metadata": {
    "collapsed": false
   }
  },
  {
   "cell_type": "code",
   "execution_count": 220,
   "outputs": [],
   "source": [
    "data['experience_lower'] = data['experience'].apply(lambda x: int(x.split('-')[0]))\n",
    "data['experience_upper'] = data['experience'].apply(lambda x: int(re.sub('yrs','', x.split('-')[1])))"
   ],
   "metadata": {
    "collapsed": false
   }
  },
  {
   "cell_type": "code",
   "execution_count": 221,
   "outputs": [
    {
     "data": {
      "text/plain": "company                  0\neducation                0\nexperience               0\nindustry                 1\njobdescription           0\njobid                    0\njoblocation_address    497\njobtitle                 0\npayrate                  1\npostdate                19\nskills                   0\nuniq_id                  0\nexperience_lower         0\nexperience_upper         0\ndtype: int64"
     },
     "execution_count": 221,
     "metadata": {},
     "output_type": "execute_result"
    }
   ],
   "source": [
    "data.isnull().sum()"
   ],
   "metadata": {
    "collapsed": false
   }
  },
  {
   "cell_type": "code",
   "execution_count": 222,
   "outputs": [],
   "source": [
    "#data.drop(['experience'], axis=1, inplace=True)"
   ],
   "metadata": {
    "collapsed": false
   }
  },
  {
   "cell_type": "code",
   "execution_count": 223,
   "outputs": [
    {
     "data": {
      "text/plain": "Index(['company', 'education', 'experience', 'industry', 'jobdescription',\n       'jobid', 'joblocation_address', 'jobtitle', 'payrate', 'postdate',\n       'skills', 'uniq_id', 'experience_lower', 'experience_upper'],\n      dtype='object')"
     },
     "execution_count": 223,
     "metadata": {},
     "output_type": "execute_result"
    }
   ],
   "source": [
    "data.columns"
   ],
   "metadata": {
    "collapsed": false
   }
  },
  {
   "cell_type": "code",
   "execution_count": 224,
   "outputs": [],
   "source": [
    "data['postdate'] = data['postdate'].astype(str).apply(lambda x: x[:-5])"
   ],
   "metadata": {
    "collapsed": false
   }
  },
  {
   "cell_type": "code",
   "execution_count": 225,
   "outputs": [
    {
     "data": {
      "text/plain": "                                      company  \\\n0                            MM Media Pvt Ltd   \n1                          find live infotech   \n2         Softtech Career Infosystem Pvt. Ltd   \n3                      Onboard HRServices LLP   \n4  Spire Technologies and Solutions Pvt. Ltd.   \n\n                                           education   experience  \\\n0  UG: B.Tech/B.E. - Any Specialization PG:Any Po...    0 - 1 yrs   \n1  UG: B.Tech/B.E. - Any Specialization PG:MBA/PG...    0 - 0 yrs   \n2  UG: Any Graduate - Any Specialization PG:Any P...    4 - 8 yrs   \n3  UG: Any Graduate - Any Specialization PG:CA Do...  11 - 15 yrs   \n4  UG: B.Tech/B.E. - Any Specialization PG:Any Po...    6 - 8 yrs   \n\n                                   industry  \\\n0          Media / Entertainment / Internet   \n1  Advertising / PR / MR / Event Management   \n2           IT-Software / Software Services   \n3    Banking / Financial Services / Broking   \n4           IT-Software / Software Services   \n\n                                      jobdescription         jobid  \\\n0  Job Description   Send me Jobs like this Quali...  210516002263   \n1  Job Description   Send me Jobs like this Quali...  210516002391   \n2  Job Description   Send me Jobs like this - as ...  101016900534   \n3  Job Description   Send me Jobs like this - Inv...   81016900536   \n4  Job Description   Send me Jobs like this Pleas...  120916002122   \n\n                                 joblocation_address  \\\n0                                            Chennai   \n1                                            Chennai   \n2                                          Bengaluru   \n3  Mumbai, Bengaluru, Kolkata, Chennai, Coimbator...   \n4                                          Bengaluru   \n\n                                   jobtitle                         payrate  \\\n0  Walkin Data Entry Operator (night Shift)         1,50,000 - 2,25,000 P.A   \n1        Work Based Onhome Based Part Time.  1,50,000 - 2,50,000 P.A. 20000   \n2                    Pl/sql Developer - SQL      Not Disclosed by Recruiter   \n3    Manager/ad/partner - Indirect Tax - CA      Not Disclosed by Recruiter   \n4           JAVA Technical Lead (6-8 yrs) -      Not Disclosed by Recruiter   \n\n               postdate                                 skills  \\\n0  2016-05-21 19:30:00                                    ITES   \n1  2016-05-21 19:30:00                               Marketing   \n2  2016-10-13 16:20:55   IT Software - Application Programming   \n3  2016-10-13 16:20:55                                Accounts   \n4  2016-10-13 16:20:55   IT Software - Application Programming   \n\n                            uniq_id  experience_lower  experience_upper  \n0  43b19632647068535437c774b6ca6cf8                 0                 1  \n1  d4c72325e57f89f364812b5ed5a795f0                 0                 0  \n2  c47df6f4cfdf5b46f1fd713ba61b9eba                 4                 8  \n3  115d28f140f694dd1cc61c53d03c66ae                11                15  \n4  a12553fc03bc7bcced8b1bb8963f97b4                 6                 8  ",
      "text/html": "<div>\n<style scoped>\n    .dataframe tbody tr th:only-of-type {\n        vertical-align: middle;\n    }\n\n    .dataframe tbody tr th {\n        vertical-align: top;\n    }\n\n    .dataframe thead th {\n        text-align: right;\n    }\n</style>\n<table border=\"1\" class=\"dataframe\">\n  <thead>\n    <tr style=\"text-align: right;\">\n      <th></th>\n      <th>company</th>\n      <th>education</th>\n      <th>experience</th>\n      <th>industry</th>\n      <th>jobdescription</th>\n      <th>jobid</th>\n      <th>joblocation_address</th>\n      <th>jobtitle</th>\n      <th>payrate</th>\n      <th>postdate</th>\n      <th>skills</th>\n      <th>uniq_id</th>\n      <th>experience_lower</th>\n      <th>experience_upper</th>\n    </tr>\n  </thead>\n  <tbody>\n    <tr>\n      <th>0</th>\n      <td>MM Media Pvt Ltd</td>\n      <td>UG: B.Tech/B.E. - Any Specialization PG:Any Po...</td>\n      <td>0 - 1 yrs</td>\n      <td>Media / Entertainment / Internet</td>\n      <td>Job Description   Send me Jobs like this Quali...</td>\n      <td>210516002263</td>\n      <td>Chennai</td>\n      <td>Walkin Data Entry Operator (night Shift)</td>\n      <td>1,50,000 - 2,25,000 P.A</td>\n      <td>2016-05-21 19:30:00</td>\n      <td>ITES</td>\n      <td>43b19632647068535437c774b6ca6cf8</td>\n      <td>0</td>\n      <td>1</td>\n    </tr>\n    <tr>\n      <th>1</th>\n      <td>find live infotech</td>\n      <td>UG: B.Tech/B.E. - Any Specialization PG:MBA/PG...</td>\n      <td>0 - 0 yrs</td>\n      <td>Advertising / PR / MR / Event Management</td>\n      <td>Job Description   Send me Jobs like this Quali...</td>\n      <td>210516002391</td>\n      <td>Chennai</td>\n      <td>Work Based Onhome Based Part Time.</td>\n      <td>1,50,000 - 2,50,000 P.A. 20000</td>\n      <td>2016-05-21 19:30:00</td>\n      <td>Marketing</td>\n      <td>d4c72325e57f89f364812b5ed5a795f0</td>\n      <td>0</td>\n      <td>0</td>\n    </tr>\n    <tr>\n      <th>2</th>\n      <td>Softtech Career Infosystem Pvt. Ltd</td>\n      <td>UG: Any Graduate - Any Specialization PG:Any P...</td>\n      <td>4 - 8 yrs</td>\n      <td>IT-Software / Software Services</td>\n      <td>Job Description   Send me Jobs like this - as ...</td>\n      <td>101016900534</td>\n      <td>Bengaluru</td>\n      <td>Pl/sql Developer - SQL</td>\n      <td>Not Disclosed by Recruiter</td>\n      <td>2016-10-13 16:20:55</td>\n      <td>IT Software - Application Programming</td>\n      <td>c47df6f4cfdf5b46f1fd713ba61b9eba</td>\n      <td>4</td>\n      <td>8</td>\n    </tr>\n    <tr>\n      <th>3</th>\n      <td>Onboard HRServices LLP</td>\n      <td>UG: Any Graduate - Any Specialization PG:CA Do...</td>\n      <td>11 - 15 yrs</td>\n      <td>Banking / Financial Services / Broking</td>\n      <td>Job Description   Send me Jobs like this - Inv...</td>\n      <td>81016900536</td>\n      <td>Mumbai, Bengaluru, Kolkata, Chennai, Coimbator...</td>\n      <td>Manager/ad/partner - Indirect Tax - CA</td>\n      <td>Not Disclosed by Recruiter</td>\n      <td>2016-10-13 16:20:55</td>\n      <td>Accounts</td>\n      <td>115d28f140f694dd1cc61c53d03c66ae</td>\n      <td>11</td>\n      <td>15</td>\n    </tr>\n    <tr>\n      <th>4</th>\n      <td>Spire Technologies and Solutions Pvt. Ltd.</td>\n      <td>UG: B.Tech/B.E. - Any Specialization PG:Any Po...</td>\n      <td>6 - 8 yrs</td>\n      <td>IT-Software / Software Services</td>\n      <td>Job Description   Send me Jobs like this Pleas...</td>\n      <td>120916002122</td>\n      <td>Bengaluru</td>\n      <td>JAVA Technical Lead (6-8 yrs) -</td>\n      <td>Not Disclosed by Recruiter</td>\n      <td>2016-10-13 16:20:55</td>\n      <td>IT Software - Application Programming</td>\n      <td>a12553fc03bc7bcced8b1bb8963f97b4</td>\n      <td>6</td>\n      <td>8</td>\n    </tr>\n  </tbody>\n</table>\n</div>"
     },
     "execution_count": 225,
     "metadata": {},
     "output_type": "execute_result"
    }
   ],
   "source": [
    "data.head(5)"
   ],
   "metadata": {
    "collapsed": false
   }
  },
  {
   "cell_type": "code",
   "execution_count": 226,
   "outputs": [
    {
     "name": "stderr",
     "output_type": "stream",
     "text": [
      "C:\\Users\\krina\\AppData\\Local\\Temp\\ipykernel_24644\\2871550422.py:1: FutureWarning: The pandas.datetime class is deprecated and will be removed from pandas in a future version. Import from datetime module instead.\n",
      "  data['job_age']=pd.datetime.today() - pd.to_datetime(data['postdate'])\n"
     ]
    }
   ],
   "source": [
    "data['job_age']=pd.datetime.today() - pd.to_datetime(data['postdate'])\n",
    "data['job_age'] = data['job_age'].dt.days"
   ],
   "metadata": {
    "collapsed": false
   }
  },
  {
   "cell_type": "code",
   "execution_count": 227,
   "outputs": [
    {
     "data": {
      "text/plain": "                                      company  \\\n0                            MM Media Pvt Ltd   \n1                          find live infotech   \n2         Softtech Career Infosystem Pvt. Ltd   \n3                      Onboard HRServices LLP   \n4  Spire Technologies and Solutions Pvt. Ltd.   \n\n                                           education   experience  \\\n0  UG: B.Tech/B.E. - Any Specialization PG:Any Po...    0 - 1 yrs   \n1  UG: B.Tech/B.E. - Any Specialization PG:MBA/PG...    0 - 0 yrs   \n2  UG: Any Graduate - Any Specialization PG:Any P...    4 - 8 yrs   \n3  UG: Any Graduate - Any Specialization PG:CA Do...  11 - 15 yrs   \n4  UG: B.Tech/B.E. - Any Specialization PG:Any Po...    6 - 8 yrs   \n\n                                   industry  \\\n0          Media / Entertainment / Internet   \n1  Advertising / PR / MR / Event Management   \n2           IT-Software / Software Services   \n3    Banking / Financial Services / Broking   \n4           IT-Software / Software Services   \n\n                                      jobdescription         jobid  \\\n0  Job Description   Send me Jobs like this Quali...  210516002263   \n1  Job Description   Send me Jobs like this Quali...  210516002391   \n2  Job Description   Send me Jobs like this - as ...  101016900534   \n3  Job Description   Send me Jobs like this - Inv...   81016900536   \n4  Job Description   Send me Jobs like this Pleas...  120916002122   \n\n                                 joblocation_address  \\\n0                                            Chennai   \n1                                            Chennai   \n2                                          Bengaluru   \n3  Mumbai, Bengaluru, Kolkata, Chennai, Coimbator...   \n4                                          Bengaluru   \n\n                                   jobtitle                         payrate  \\\n0  Walkin Data Entry Operator (night Shift)         1,50,000 - 2,25,000 P.A   \n1        Work Based Onhome Based Part Time.  1,50,000 - 2,50,000 P.A. 20000   \n2                    Pl/sql Developer - SQL      Not Disclosed by Recruiter   \n3    Manager/ad/partner - Indirect Tax - CA      Not Disclosed by Recruiter   \n4           JAVA Technical Lead (6-8 yrs) -      Not Disclosed by Recruiter   \n\n               postdate                                 skills  \\\n0  2016-05-21 19:30:00                                    ITES   \n1  2016-05-21 19:30:00                               Marketing   \n2  2016-10-13 16:20:55   IT Software - Application Programming   \n3  2016-10-13 16:20:55                                Accounts   \n4  2016-10-13 16:20:55   IT Software - Application Programming   \n\n                            uniq_id  experience_lower  experience_upper  \\\n0  43b19632647068535437c774b6ca6cf8                 0                 1   \n1  d4c72325e57f89f364812b5ed5a795f0                 0                 0   \n2  c47df6f4cfdf5b46f1fd713ba61b9eba                 4                 8   \n3  115d28f140f694dd1cc61c53d03c66ae                11                15   \n4  a12553fc03bc7bcced8b1bb8963f97b4                 6                 8   \n\n   job_age  \n0   2469.0  \n1   2469.0  \n2   2325.0  \n3   2325.0  \n4   2325.0  ",
      "text/html": "<div>\n<style scoped>\n    .dataframe tbody tr th:only-of-type {\n        vertical-align: middle;\n    }\n\n    .dataframe tbody tr th {\n        vertical-align: top;\n    }\n\n    .dataframe thead th {\n        text-align: right;\n    }\n</style>\n<table border=\"1\" class=\"dataframe\">\n  <thead>\n    <tr style=\"text-align: right;\">\n      <th></th>\n      <th>company</th>\n      <th>education</th>\n      <th>experience</th>\n      <th>industry</th>\n      <th>jobdescription</th>\n      <th>jobid</th>\n      <th>joblocation_address</th>\n      <th>jobtitle</th>\n      <th>payrate</th>\n      <th>postdate</th>\n      <th>skills</th>\n      <th>uniq_id</th>\n      <th>experience_lower</th>\n      <th>experience_upper</th>\n      <th>job_age</th>\n    </tr>\n  </thead>\n  <tbody>\n    <tr>\n      <th>0</th>\n      <td>MM Media Pvt Ltd</td>\n      <td>UG: B.Tech/B.E. - Any Specialization PG:Any Po...</td>\n      <td>0 - 1 yrs</td>\n      <td>Media / Entertainment / Internet</td>\n      <td>Job Description   Send me Jobs like this Quali...</td>\n      <td>210516002263</td>\n      <td>Chennai</td>\n      <td>Walkin Data Entry Operator (night Shift)</td>\n      <td>1,50,000 - 2,25,000 P.A</td>\n      <td>2016-05-21 19:30:00</td>\n      <td>ITES</td>\n      <td>43b19632647068535437c774b6ca6cf8</td>\n      <td>0</td>\n      <td>1</td>\n      <td>2469.0</td>\n    </tr>\n    <tr>\n      <th>1</th>\n      <td>find live infotech</td>\n      <td>UG: B.Tech/B.E. - Any Specialization PG:MBA/PG...</td>\n      <td>0 - 0 yrs</td>\n      <td>Advertising / PR / MR / Event Management</td>\n      <td>Job Description   Send me Jobs like this Quali...</td>\n      <td>210516002391</td>\n      <td>Chennai</td>\n      <td>Work Based Onhome Based Part Time.</td>\n      <td>1,50,000 - 2,50,000 P.A. 20000</td>\n      <td>2016-05-21 19:30:00</td>\n      <td>Marketing</td>\n      <td>d4c72325e57f89f364812b5ed5a795f0</td>\n      <td>0</td>\n      <td>0</td>\n      <td>2469.0</td>\n    </tr>\n    <tr>\n      <th>2</th>\n      <td>Softtech Career Infosystem Pvt. Ltd</td>\n      <td>UG: Any Graduate - Any Specialization PG:Any P...</td>\n      <td>4 - 8 yrs</td>\n      <td>IT-Software / Software Services</td>\n      <td>Job Description   Send me Jobs like this - as ...</td>\n      <td>101016900534</td>\n      <td>Bengaluru</td>\n      <td>Pl/sql Developer - SQL</td>\n      <td>Not Disclosed by Recruiter</td>\n      <td>2016-10-13 16:20:55</td>\n      <td>IT Software - Application Programming</td>\n      <td>c47df6f4cfdf5b46f1fd713ba61b9eba</td>\n      <td>4</td>\n      <td>8</td>\n      <td>2325.0</td>\n    </tr>\n    <tr>\n      <th>3</th>\n      <td>Onboard HRServices LLP</td>\n      <td>UG: Any Graduate - Any Specialization PG:CA Do...</td>\n      <td>11 - 15 yrs</td>\n      <td>Banking / Financial Services / Broking</td>\n      <td>Job Description   Send me Jobs like this - Inv...</td>\n      <td>81016900536</td>\n      <td>Mumbai, Bengaluru, Kolkata, Chennai, Coimbator...</td>\n      <td>Manager/ad/partner - Indirect Tax - CA</td>\n      <td>Not Disclosed by Recruiter</td>\n      <td>2016-10-13 16:20:55</td>\n      <td>Accounts</td>\n      <td>115d28f140f694dd1cc61c53d03c66ae</td>\n      <td>11</td>\n      <td>15</td>\n      <td>2325.0</td>\n    </tr>\n    <tr>\n      <th>4</th>\n      <td>Spire Technologies and Solutions Pvt. Ltd.</td>\n      <td>UG: B.Tech/B.E. - Any Specialization PG:Any Po...</td>\n      <td>6 - 8 yrs</td>\n      <td>IT-Software / Software Services</td>\n      <td>Job Description   Send me Jobs like this Pleas...</td>\n      <td>120916002122</td>\n      <td>Bengaluru</td>\n      <td>JAVA Technical Lead (6-8 yrs) -</td>\n      <td>Not Disclosed by Recruiter</td>\n      <td>2016-10-13 16:20:55</td>\n      <td>IT Software - Application Programming</td>\n      <td>a12553fc03bc7bcced8b1bb8963f97b4</td>\n      <td>6</td>\n      <td>8</td>\n      <td>2325.0</td>\n    </tr>\n  </tbody>\n</table>\n</div>"
     },
     "execution_count": 227,
     "metadata": {},
     "output_type": "execute_result"
    }
   ],
   "source": [
    "data.head()"
   ],
   "metadata": {
    "collapsed": false
   }
  },
  {
   "cell_type": "code",
   "execution_count": 228,
   "outputs": [
    {
     "data": {
      "text/plain": "45"
     },
     "execution_count": 228,
     "metadata": {},
     "output_type": "execute_result"
    }
   ],
   "source": [
    "data['skills'].nunique()"
   ],
   "metadata": {
    "collapsed": false
   }
  },
  {
   "cell_type": "code",
   "execution_count": 229,
   "outputs": [],
   "source": [
    "# source: https://www.kaggle.com/code/karankrishna/job-market-analysis-of-india\n",
    "\n",
    "replacements = {\n",
    "   'joblocation_address': {\n",
    "      r'(Bengaluru/Bangalore)': 'Bangalore',\n",
    "      r'Bengaluru': 'Bangalore',\n",
    "      r'Hyderabad / Secunderabad': 'Hyderabad',\n",
    "      r'Mumbai , Mumbai': 'Mumbai',\n",
    "      r'Noida': 'NCR',\n",
    "      r'Delhi': 'NCR',\n",
    "      r'Gurgaon': 'NCR',\n",
    "      r'Delhi/NCR(National Capital Region)': 'NCR',\n",
    "      r'Delhi , Delhi': 'NCR',\n",
    "      r'Noida , Noida/Greater Noida': 'NCR',\n",
    "      r'Ghaziabad': 'NCR',\n",
    "      r'Delhi/NCR(National Capital Region) , Gurgaon': 'NCR',\n",
    "      r'NCR , NCR': 'NCR',\n",
    "      r'NCR/NCR(National Capital Region)': 'NCR',\n",
    "      r'NCR , NCR/Greater NCR': 'NCR',\n",
    "      r'NCR/NCR(National Capital Region) , NCR': 'NCR',\n",
    "      r'NCR , NCR/NCR(National Capital Region)': 'NCR',\n",
    "      r'Bangalore , Bangalore / Bangalore': 'Bangalore',\n",
    "      r'Bangalore , karnataka': 'Bangalore',\n",
    "      r'NCR/NCR(National Capital Region)': 'NCR',\n",
    "      r'NCR/Greater NCR': 'NCR',\n",
    "      r'NCR/NCR(National Capital Region) , NCR': 'NCR'\n",
    "\n",
    "   }\n",
    "}\n",
    "\n",
    "data.replace(replacements, regex=True, inplace=True)"
   ],
   "metadata": {
    "collapsed": false
   }
  },
  {
   "cell_type": "code",
   "execution_count": 230,
   "outputs": [
    {
     "data": {
      "text/plain": "                                      company  \\\n0                            MM Media Pvt Ltd   \n1                          find live infotech   \n2         Softtech Career Infosystem Pvt. Ltd   \n3                      Onboard HRServices LLP   \n4  Spire Technologies and Solutions Pvt. Ltd.   \n\n                                           education   experience  \\\n0  UG: B.Tech/B.E. - Any Specialization PG:Any Po...    0 - 1 yrs   \n1  UG: B.Tech/B.E. - Any Specialization PG:MBA/PG...    0 - 0 yrs   \n2  UG: Any Graduate - Any Specialization PG:Any P...    4 - 8 yrs   \n3  UG: Any Graduate - Any Specialization PG:CA Do...  11 - 15 yrs   \n4  UG: B.Tech/B.E. - Any Specialization PG:Any Po...    6 - 8 yrs   \n\n                                   industry  \\\n0          Media / Entertainment / Internet   \n1  Advertising / PR / MR / Event Management   \n2           IT-Software / Software Services   \n3    Banking / Financial Services / Broking   \n4           IT-Software / Software Services   \n\n                                      jobdescription         jobid  \\\n0  Job Description   Send me Jobs like this Quali...  210516002263   \n1  Job Description   Send me Jobs like this Quali...  210516002391   \n2  Job Description   Send me Jobs like this - as ...  101016900534   \n3  Job Description   Send me Jobs like this - Inv...   81016900536   \n4  Job Description   Send me Jobs like this Pleas...  120916002122   \n\n                                 joblocation_address  \\\n0                                            Chennai   \n1                                            Chennai   \n2                                          Bangalore   \n3  Mumbai, Bangalore, Kolkata, Chennai, Coimbator...   \n4                                          Bangalore   \n\n                                   jobtitle                         payrate  \\\n0  Walkin Data Entry Operator (night Shift)         1,50,000 - 2,25,000 P.A   \n1        Work Based Onhome Based Part Time.  1,50,000 - 2,50,000 P.A. 20000   \n2                    Pl/sql Developer - SQL      Not Disclosed by Recruiter   \n3    Manager/ad/partner - Indirect Tax - CA      Not Disclosed by Recruiter   \n4           JAVA Technical Lead (6-8 yrs) -      Not Disclosed by Recruiter   \n\n               postdate                                 skills  \\\n0  2016-05-21 19:30:00                                    ITES   \n1  2016-05-21 19:30:00                               Marketing   \n2  2016-10-13 16:20:55   IT Software - Application Programming   \n3  2016-10-13 16:20:55                                Accounts   \n4  2016-10-13 16:20:55   IT Software - Application Programming   \n\n                            uniq_id  experience_lower  experience_upper  \\\n0  43b19632647068535437c774b6ca6cf8                 0                 1   \n1  d4c72325e57f89f364812b5ed5a795f0                 0                 0   \n2  c47df6f4cfdf5b46f1fd713ba61b9eba                 4                 8   \n3  115d28f140f694dd1cc61c53d03c66ae                11                15   \n4  a12553fc03bc7bcced8b1bb8963f97b4                 6                 8   \n\n   job_age  \n0   2469.0  \n1   2469.0  \n2   2325.0  \n3   2325.0  \n4   2325.0  ",
      "text/html": "<div>\n<style scoped>\n    .dataframe tbody tr th:only-of-type {\n        vertical-align: middle;\n    }\n\n    .dataframe tbody tr th {\n        vertical-align: top;\n    }\n\n    .dataframe thead th {\n        text-align: right;\n    }\n</style>\n<table border=\"1\" class=\"dataframe\">\n  <thead>\n    <tr style=\"text-align: right;\">\n      <th></th>\n      <th>company</th>\n      <th>education</th>\n      <th>experience</th>\n      <th>industry</th>\n      <th>jobdescription</th>\n      <th>jobid</th>\n      <th>joblocation_address</th>\n      <th>jobtitle</th>\n      <th>payrate</th>\n      <th>postdate</th>\n      <th>skills</th>\n      <th>uniq_id</th>\n      <th>experience_lower</th>\n      <th>experience_upper</th>\n      <th>job_age</th>\n    </tr>\n  </thead>\n  <tbody>\n    <tr>\n      <th>0</th>\n      <td>MM Media Pvt Ltd</td>\n      <td>UG: B.Tech/B.E. - Any Specialization PG:Any Po...</td>\n      <td>0 - 1 yrs</td>\n      <td>Media / Entertainment / Internet</td>\n      <td>Job Description   Send me Jobs like this Quali...</td>\n      <td>210516002263</td>\n      <td>Chennai</td>\n      <td>Walkin Data Entry Operator (night Shift)</td>\n      <td>1,50,000 - 2,25,000 P.A</td>\n      <td>2016-05-21 19:30:00</td>\n      <td>ITES</td>\n      <td>43b19632647068535437c774b6ca6cf8</td>\n      <td>0</td>\n      <td>1</td>\n      <td>2469.0</td>\n    </tr>\n    <tr>\n      <th>1</th>\n      <td>find live infotech</td>\n      <td>UG: B.Tech/B.E. - Any Specialization PG:MBA/PG...</td>\n      <td>0 - 0 yrs</td>\n      <td>Advertising / PR / MR / Event Management</td>\n      <td>Job Description   Send me Jobs like this Quali...</td>\n      <td>210516002391</td>\n      <td>Chennai</td>\n      <td>Work Based Onhome Based Part Time.</td>\n      <td>1,50,000 - 2,50,000 P.A. 20000</td>\n      <td>2016-05-21 19:30:00</td>\n      <td>Marketing</td>\n      <td>d4c72325e57f89f364812b5ed5a795f0</td>\n      <td>0</td>\n      <td>0</td>\n      <td>2469.0</td>\n    </tr>\n    <tr>\n      <th>2</th>\n      <td>Softtech Career Infosystem Pvt. Ltd</td>\n      <td>UG: Any Graduate - Any Specialization PG:Any P...</td>\n      <td>4 - 8 yrs</td>\n      <td>IT-Software / Software Services</td>\n      <td>Job Description   Send me Jobs like this - as ...</td>\n      <td>101016900534</td>\n      <td>Bangalore</td>\n      <td>Pl/sql Developer - SQL</td>\n      <td>Not Disclosed by Recruiter</td>\n      <td>2016-10-13 16:20:55</td>\n      <td>IT Software - Application Programming</td>\n      <td>c47df6f4cfdf5b46f1fd713ba61b9eba</td>\n      <td>4</td>\n      <td>8</td>\n      <td>2325.0</td>\n    </tr>\n    <tr>\n      <th>3</th>\n      <td>Onboard HRServices LLP</td>\n      <td>UG: Any Graduate - Any Specialization PG:CA Do...</td>\n      <td>11 - 15 yrs</td>\n      <td>Banking / Financial Services / Broking</td>\n      <td>Job Description   Send me Jobs like this - Inv...</td>\n      <td>81016900536</td>\n      <td>Mumbai, Bangalore, Kolkata, Chennai, Coimbator...</td>\n      <td>Manager/ad/partner - Indirect Tax - CA</td>\n      <td>Not Disclosed by Recruiter</td>\n      <td>2016-10-13 16:20:55</td>\n      <td>Accounts</td>\n      <td>115d28f140f694dd1cc61c53d03c66ae</td>\n      <td>11</td>\n      <td>15</td>\n      <td>2325.0</td>\n    </tr>\n    <tr>\n      <th>4</th>\n      <td>Spire Technologies and Solutions Pvt. Ltd.</td>\n      <td>UG: B.Tech/B.E. - Any Specialization PG:Any Po...</td>\n      <td>6 - 8 yrs</td>\n      <td>IT-Software / Software Services</td>\n      <td>Job Description   Send me Jobs like this Pleas...</td>\n      <td>120916002122</td>\n      <td>Bangalore</td>\n      <td>JAVA Technical Lead (6-8 yrs) -</td>\n      <td>Not Disclosed by Recruiter</td>\n      <td>2016-10-13 16:20:55</td>\n      <td>IT Software - Application Programming</td>\n      <td>a12553fc03bc7bcced8b1bb8963f97b4</td>\n      <td>6</td>\n      <td>8</td>\n      <td>2325.0</td>\n    </tr>\n  </tbody>\n</table>\n</div>"
     },
     "execution_count": 230,
     "metadata": {},
     "output_type": "execute_result"
    }
   ],
   "source": [
    "data.head()"
   ],
   "metadata": {
    "collapsed": false
   }
  },
  {
   "cell_type": "code",
   "execution_count": 231,
   "outputs": [],
   "source": [
    "data['industry'] = data['industry'].astype(str).apply(lambda x: x.split('/')[0])"
   ],
   "metadata": {
    "collapsed": false
   }
  },
  {
   "cell_type": "code",
   "execution_count": 232,
   "outputs": [],
   "source": [
    "data['industry'] = data['industry'].str.strip()"
   ],
   "metadata": {
    "collapsed": false
   }
  },
  {
   "cell_type": "code",
   "execution_count": 233,
   "outputs": [],
   "source": [
    "data['Education'] = data['education'].str.split(' ')\n",
    "data['Education'] = data['Education'].apply(lambda x: x[1] if len(x) > 1 else x[0])\n",
    "\n",
    "data['Education'] = data['Education'].replace(('B.Tech/B.E.','Graduation','Other','-','Not','B.Tech/B.E.,','Postgraduate',\n",
    "                                               'PG:CA','Diploma,','B.Com,','B.Pharma,','B.A,','BCA,','B.Sc,','MBA/PGDM','B.B.A,',\n",
    "                                              'PG:Other','Doctorate:Doctorate','Post'),\n",
    "                                              ('B.Tech','B.Tech','B.Tech','B.Tech','B.Tech','B.Tech','B.Tech',\n",
    "                                              'CA','Diploma','B.Com','B.Pharma','B.A','BCA','B.Sc','MBA','BBA',\n",
    "                                              'B.Tech','Doctorate','B.Tech'))\n",
    "\n",
    "data['Skills'] = data['skills'].str.split(\" - \")\n",
    "data['Skills'] = data['Skills'].apply(lambda x: x[1] if len(x) > 1 else x[0])"
   ],
   "metadata": {
    "collapsed": false
   }
  },
  {
   "cell_type": "code",
   "execution_count": 234,
   "outputs": [
    {
     "data": {
      "text/plain": "joblocation_address    497\njob_age                 19\ndtype: int64"
     },
     "execution_count": 234,
     "metadata": {},
     "output_type": "execute_result"
    }
   ],
   "source": [
    "majority_industries = data['industry'].value_counts()[data['industry'].value_counts()>=10].index\n",
    "data = data[data['industry'].isin(majority_industries)]\n",
    "data.isnull().sum()[data.isnull().sum()>0]"
   ],
   "metadata": {
    "collapsed": false
   }
  },
  {
   "cell_type": "code",
   "execution_count": 235,
   "outputs": [],
   "source": [
    "joblocation_imputer = SimpleImputer(strategy='most_frequent')\n",
    "data['joblocation_address'] = joblocation_imputer.fit_transform(data[['joblocation_address']])\n",
    "jobage_imputer = SimpleImputer(strategy='mean')\n",
    "data['job_age'] = jobage_imputer.fit_transform(data[['job_age']])"
   ],
   "metadata": {
    "collapsed": false
   }
  },
  {
   "cell_type": "code",
   "execution_count": 236,
   "outputs": [
    {
     "data": {
      "text/plain": "company                0\neducation              0\nexperience             0\nindustry               0\njobdescription         0\njobid                  0\njoblocation_address    0\njobtitle               0\npayrate                0\npostdate               0\nskills                 0\nuniq_id                0\nexperience_lower       0\nexperience_upper       0\njob_age                0\nEducation              0\nSkills                 0\ndtype: int64"
     },
     "execution_count": 236,
     "metadata": {},
     "output_type": "execute_result"
    }
   ],
   "source": [
    "data.isnull().sum()"
   ],
   "metadata": {
    "collapsed": false
   }
  },
  {
   "cell_type": "code",
   "execution_count": 237,
   "outputs": [
    {
     "data": {
      "text/plain": "                                      company  \\\n0                            MM Media Pvt Ltd   \n1                          find live infotech   \n2         Softtech Career Infosystem Pvt. Ltd   \n3                      Onboard HRServices LLP   \n4  Spire Technologies and Solutions Pvt. Ltd.   \n\n                                           education   experience  \\\n0  UG: B.Tech/B.E. - Any Specialization PG:Any Po...    0 - 1 yrs   \n1  UG: B.Tech/B.E. - Any Specialization PG:MBA/PG...    0 - 0 yrs   \n2  UG: Any Graduate - Any Specialization PG:Any P...    4 - 8 yrs   \n3  UG: Any Graduate - Any Specialization PG:CA Do...  11 - 15 yrs   \n4  UG: B.Tech/B.E. - Any Specialization PG:Any Po...    6 - 8 yrs   \n\n      industry                                     jobdescription  \\\n0        Media  Job Description   Send me Jobs like this Quali...   \n1  Advertising  Job Description   Send me Jobs like this Quali...   \n2  IT-Software  Job Description   Send me Jobs like this - as ...   \n3      Banking  Job Description   Send me Jobs like this - Inv...   \n4  IT-Software  Job Description   Send me Jobs like this Pleas...   \n\n          jobid                                joblocation_address  \\\n0  210516002263                                            Chennai   \n1  210516002391                                            Chennai   \n2  101016900534                                          Bangalore   \n3   81016900536  Mumbai, Bangalore, Kolkata, Chennai, Coimbator...   \n4  120916002122                                          Bangalore   \n\n                                   jobtitle                         payrate  \\\n0  Walkin Data Entry Operator (night Shift)         1,50,000 - 2,25,000 P.A   \n1        Work Based Onhome Based Part Time.  1,50,000 - 2,50,000 P.A. 20000   \n2                    Pl/sql Developer - SQL      Not Disclosed by Recruiter   \n3    Manager/ad/partner - Indirect Tax - CA      Not Disclosed by Recruiter   \n4           JAVA Technical Lead (6-8 yrs) -      Not Disclosed by Recruiter   \n\n               postdate                                 skills  \\\n0  2016-05-21 19:30:00                                    ITES   \n1  2016-05-21 19:30:00                               Marketing   \n2  2016-10-13 16:20:55   IT Software - Application Programming   \n3  2016-10-13 16:20:55                                Accounts   \n4  2016-10-13 16:20:55   IT Software - Application Programming   \n\n                            uniq_id  experience_lower  experience_upper  \\\n0  43b19632647068535437c774b6ca6cf8                 0                 1   \n1  d4c72325e57f89f364812b5ed5a795f0                 0                 0   \n2  c47df6f4cfdf5b46f1fd713ba61b9eba                 4                 8   \n3  115d28f140f694dd1cc61c53d03c66ae                11                15   \n4  a12553fc03bc7bcced8b1bb8963f97b4                 6                 8   \n\n   job_age Education                   Skills  \n0   2469.0    B.Tech                     ITES  \n1   2469.0    B.Tech                Marketing  \n2   2325.0       Any  Application Programming  \n3   2325.0       Any                 Accounts  \n4   2325.0    B.Tech  Application Programming  ",
      "text/html": "<div>\n<style scoped>\n    .dataframe tbody tr th:only-of-type {\n        vertical-align: middle;\n    }\n\n    .dataframe tbody tr th {\n        vertical-align: top;\n    }\n\n    .dataframe thead th {\n        text-align: right;\n    }\n</style>\n<table border=\"1\" class=\"dataframe\">\n  <thead>\n    <tr style=\"text-align: right;\">\n      <th></th>\n      <th>company</th>\n      <th>education</th>\n      <th>experience</th>\n      <th>industry</th>\n      <th>jobdescription</th>\n      <th>jobid</th>\n      <th>joblocation_address</th>\n      <th>jobtitle</th>\n      <th>payrate</th>\n      <th>postdate</th>\n      <th>skills</th>\n      <th>uniq_id</th>\n      <th>experience_lower</th>\n      <th>experience_upper</th>\n      <th>job_age</th>\n      <th>Education</th>\n      <th>Skills</th>\n    </tr>\n  </thead>\n  <tbody>\n    <tr>\n      <th>0</th>\n      <td>MM Media Pvt Ltd</td>\n      <td>UG: B.Tech/B.E. - Any Specialization PG:Any Po...</td>\n      <td>0 - 1 yrs</td>\n      <td>Media</td>\n      <td>Job Description   Send me Jobs like this Quali...</td>\n      <td>210516002263</td>\n      <td>Chennai</td>\n      <td>Walkin Data Entry Operator (night Shift)</td>\n      <td>1,50,000 - 2,25,000 P.A</td>\n      <td>2016-05-21 19:30:00</td>\n      <td>ITES</td>\n      <td>43b19632647068535437c774b6ca6cf8</td>\n      <td>0</td>\n      <td>1</td>\n      <td>2469.0</td>\n      <td>B.Tech</td>\n      <td>ITES</td>\n    </tr>\n    <tr>\n      <th>1</th>\n      <td>find live infotech</td>\n      <td>UG: B.Tech/B.E. - Any Specialization PG:MBA/PG...</td>\n      <td>0 - 0 yrs</td>\n      <td>Advertising</td>\n      <td>Job Description   Send me Jobs like this Quali...</td>\n      <td>210516002391</td>\n      <td>Chennai</td>\n      <td>Work Based Onhome Based Part Time.</td>\n      <td>1,50,000 - 2,50,000 P.A. 20000</td>\n      <td>2016-05-21 19:30:00</td>\n      <td>Marketing</td>\n      <td>d4c72325e57f89f364812b5ed5a795f0</td>\n      <td>0</td>\n      <td>0</td>\n      <td>2469.0</td>\n      <td>B.Tech</td>\n      <td>Marketing</td>\n    </tr>\n    <tr>\n      <th>2</th>\n      <td>Softtech Career Infosystem Pvt. Ltd</td>\n      <td>UG: Any Graduate - Any Specialization PG:Any P...</td>\n      <td>4 - 8 yrs</td>\n      <td>IT-Software</td>\n      <td>Job Description   Send me Jobs like this - as ...</td>\n      <td>101016900534</td>\n      <td>Bangalore</td>\n      <td>Pl/sql Developer - SQL</td>\n      <td>Not Disclosed by Recruiter</td>\n      <td>2016-10-13 16:20:55</td>\n      <td>IT Software - Application Programming</td>\n      <td>c47df6f4cfdf5b46f1fd713ba61b9eba</td>\n      <td>4</td>\n      <td>8</td>\n      <td>2325.0</td>\n      <td>Any</td>\n      <td>Application Programming</td>\n    </tr>\n    <tr>\n      <th>3</th>\n      <td>Onboard HRServices LLP</td>\n      <td>UG: Any Graduate - Any Specialization PG:CA Do...</td>\n      <td>11 - 15 yrs</td>\n      <td>Banking</td>\n      <td>Job Description   Send me Jobs like this - Inv...</td>\n      <td>81016900536</td>\n      <td>Mumbai, Bangalore, Kolkata, Chennai, Coimbator...</td>\n      <td>Manager/ad/partner - Indirect Tax - CA</td>\n      <td>Not Disclosed by Recruiter</td>\n      <td>2016-10-13 16:20:55</td>\n      <td>Accounts</td>\n      <td>115d28f140f694dd1cc61c53d03c66ae</td>\n      <td>11</td>\n      <td>15</td>\n      <td>2325.0</td>\n      <td>Any</td>\n      <td>Accounts</td>\n    </tr>\n    <tr>\n      <th>4</th>\n      <td>Spire Technologies and Solutions Pvt. Ltd.</td>\n      <td>UG: B.Tech/B.E. - Any Specialization PG:Any Po...</td>\n      <td>6 - 8 yrs</td>\n      <td>IT-Software</td>\n      <td>Job Description   Send me Jobs like this Pleas...</td>\n      <td>120916002122</td>\n      <td>Bangalore</td>\n      <td>JAVA Technical Lead (6-8 yrs) -</td>\n      <td>Not Disclosed by Recruiter</td>\n      <td>2016-10-13 16:20:55</td>\n      <td>IT Software - Application Programming</td>\n      <td>a12553fc03bc7bcced8b1bb8963f97b4</td>\n      <td>6</td>\n      <td>8</td>\n      <td>2325.0</td>\n      <td>B.Tech</td>\n      <td>Application Programming</td>\n    </tr>\n  </tbody>\n</table>\n</div>"
     },
     "execution_count": 237,
     "metadata": {},
     "output_type": "execute_result"
    }
   ],
   "source": [
    "data.head()"
   ],
   "metadata": {
    "collapsed": false
   }
  },
  {
   "cell_type": "code",
   "execution_count": 238,
   "outputs": [],
   "source": [
    "# Splitting the data into X and y\n",
    "X = data['skills'] # job description text for training model\n",
    "y = data['industry'] # Industry in which the description belongs (used for recommendation purposes)\n",
    "test_size = int(len(X) * 0.1)\n",
    "\n",
    "X_train,X_test, y_train, y_test = train_test_split(X,y, test_size = test_size, stratify=y)\n",
    "X_train, X_val, y_train, y_val = train_test_split(X_train, y_train, test_size=test_size,\n",
    "                                                  stratify=y_train)"
   ],
   "metadata": {
    "collapsed": false
   }
  },
  {
   "cell_type": "code",
   "execution_count": 239,
   "outputs": [
    {
     "name": "stdout",
     "output_type": "stream",
     "text": [
      "Financial Services\n"
     ]
    }
   ],
   "source": [
    "print(X_train.iloc[0])"
   ],
   "metadata": {
    "collapsed": false
   }
  },
  {
   "cell_type": "code",
   "execution_count": 240,
   "outputs": [],
   "source": [
    "class Preprocess:\n",
    "    def __init__(self,method='WordNetLemmatizer'):\n",
    "        # WordNetLemmatizer is recommended because it reduces the given word to the root word\n",
    "        # by referring to the WordNet corpus unlike other stemming techniques which just\n",
    "        # truncate the word by removing the suffix, which is why I have set it as default\n",
    "        self.method = method\n",
    "        self.stemmers = {\n",
    "            'PorterStemmer':PorterStemmer(),\n",
    "            'LancasterStemmer':LancasterStemmer(),\n",
    "            'SnowballStemmer':SnowballStemmer(language='english'),\n",
    "            'WordNetLemmatizer':WordNetLemmatizer()\n",
    "        }\n",
    "        self.stemmer = self.stemmers[self.method]\n",
    "        # Remove punctuation signs and stopwords for better results\n",
    "        self.stopWords = list(punctuation) + list(stopwords.words('english'))\n",
    "        # Adding custom stopwords for better preprocessing, feel free to add more\n",
    "        self.moreStopWords = ['job','description','requirement','skill', 'qualification']\n",
    "        self.stopWords.extend(self.moreStopWords)\n",
    "        self.encoder = LabelEncoder()\n",
    "        # Using tf-idf vectorizer because it not only relies on the count but also the\n",
    "        # number of documents it occurs in\n",
    "        # tf * log(N/df), where tf = term frequency/count of words\n",
    "        # N = total number of documents\n",
    "        # df = document frequency (number of documents containing that word)\n",
    "        # Count vectorizer gets tricked by the term frequency but in tf-idf it does not happen\n",
    "        # eg - if the word occurs frequently in almost all documents,it may be a filler word\n",
    "        # which was ignored in stopwords, so it can trick the count vectorizer,but in tf-idf\n",
    "        # N/df almost = 1, so log(N/df) will be almost 0 and hence the word will not be given\n",
    "        # much importance which is desirable, hence we should use tfidf vectorizer instead of\n",
    "        # count vectorizer\n",
    "        self.vectorizer = TfidfVectorizer()\n",
    "        self.isFitted = False\n",
    "    def preprocess(self, message):\n",
    "        message = message.lower()\n",
    "        #Remove links\n",
    "        message = re.sub('http[s]?://(?:[a-zA-Z]|[0-9]|[$-_@.&+#]|[!*\\(\\),]|'\\\n",
    "                        '(?:%[0-9a-fA-F][0-9a-fA-F]))+','', message)\n",
    "        # Remove extra spaces\n",
    "        message = re.sub(' +', ' ', message)\n",
    "        # Remove mentions\n",
    "        message =re.sub(\"(@[A-Za-z0-9_]+)\",\"\", message)\n",
    "        # Remove Hashtags\n",
    "        message = re.sub('#[A-Za-z0-9_]+','', message)\n",
    "        # Remove all non alphanumeric characters\n",
    "        message = re.sub(\"^[A-Za-z0-9_-]*$\", \"\", message)\n",
    "        # Remove Emojis\n",
    "        emoji_pattern = re.compile(\n",
    "            \"[\"\n",
    "            u\"\\U0001F600-\\U0001F64F\"  # emoticons\n",
    "            u\"\\U0001F300-\\U0001F5FF\"  # symbols & pictographs\n",
    "            u\"\\U0001F680-\\U0001F6FF\"  # transport & map symbols\n",
    "            u\"\\U0001F1E0-\\U0001F1FF\"  # flags (iOS)\n",
    "            u\"\\U00002702-\\U000027B0\"\n",
    "            u\"\\U000024C2-\\U0001F251\"\n",
    "            \"]+\",\n",
    "            flags=re.UNICODE,\n",
    "        )\n",
    "        message = emoji_pattern.sub('',message)\n",
    "        if self.method == 'WordNetLemmatizer':\n",
    "            message = ' '.join([self.stemmer.lemmatize(word) for word in message.split() if word not in self.moreStopWords])\n",
    "        else:\n",
    "            message = ' '.join([self.stemmer.stem(word) for word in message.split() if word not in self.moreStopWords])\n",
    "        return message\n",
    "    def fit(self,X,y=None):\n",
    "        self.vectorizer.fit(X)\n",
    "        if y is not None:\n",
    "            self.encoder.fit(y)\n",
    "        self.isFitted=True\n",
    "    def transform(self, X, y=None):\n",
    "        if not self.isFitted:\n",
    "            raise NotImplementedError('Please fit first by calling the fit function')\n",
    "        X = self.vectorizer.transform(X)\n",
    "        if y is not None:\n",
    "            y = self.encoder.transform(y)\n",
    "            return X,y\n",
    "        else:\n",
    "            return X\n",
    "    def fit_transform(self,X,y=None):\n",
    "        self.fit(X,y)\n",
    "        X,y = self.transform(X,y)\n",
    "        return X,y\n",
    "\n"
   ],
   "metadata": {
    "collapsed": false
   }
  },
  {
   "cell_type": "code",
   "execution_count": 241,
   "outputs": [],
   "source": [
    "preprocess = Preprocess()\n",
    "X_train, y_train = preprocess.fit_transform(X_train,y_train)\n",
    "X_val, y_val = preprocess.transform(X_val, y_val)\n",
    "X_test, y_test = preprocess.transform(X_test,y_test)"
   ],
   "metadata": {
    "collapsed": false
   }
  },
  {
   "cell_type": "code",
   "execution_count": 246,
   "outputs": [],
   "source": [
    "import time\n",
    "class Models:\n",
    "    def __init__(self, models=['dt','rf','xgb']):\n",
    "        self.model_dict = {\n",
    "            'dt':DecisionTreeClassifier(),\n",
    "            'rf':RandomForestClassifier(n_jobs=-1),\n",
    "            'xgb':XGBClassifier(\n",
    "                use_label_encoder=False,\n",
    "                eval_metric='logloss',\n",
    "                n_jobs=-1),\n",
    "            'logistic':LogisticRegression(),\n",
    "            'gb':GradientBoostingClassifier(),\n",
    "            'adaboost':AdaBoostClassifier(),\n",
    "            'svc':SVC()\n",
    "        }\n",
    "        self.models = models\n",
    "        self.selected_models = {}\n",
    "        for model in self.models:\n",
    "            self.selected_models[model] = self.model_dict[model]\n",
    "        self.isFitted = False\n",
    "    def fit(self, X,y):\n",
    "        if pd.Series(y).nunique() > 2 and 'xgb' in self.selected_models:\n",
    "            self.model_dict['xgb'].objective = 'multi:softmax'\n",
    "        elif pd.Series(y).nunique == 2 and 'xgb' in self.selected_models:\n",
    "            self.model_dict['xgb'].objective = 'binary:logistic'\n",
    "        for name, model in self.selected_models.items():\n",
    "            print(f'Training model {name}')\n",
    "            start = time.time()\n",
    "            model.fit(X,y)\n",
    "            print(f'Took {time.time() - start}s to train')\n",
    "        self.isFitted = True\n",
    "        print('Finished training all models')\n",
    "    def evaluate(self,X_train, y_train, X_val, y_val, X_test, y_test):\n",
    "        if not self.isFitted:\n",
    "            raise NotImplementedError('Please fit the models first by calling the fit funcion')\n",
    "        for name, model in self.selected_models.items():\n",
    "            print(f'Evaluating model {name}')\n",
    "            trainPreds = model.predict(X_train)\n",
    "            valPreds = model.predict(X_val)\n",
    "            testPreds = model.predict(X_test)\n",
    "            train_acc = accuracy_score(y_true=y_train, y_pred = trainPreds)\n",
    "            val_acc = accuracy_score(y_true=y_val, y_pred=valPreds)\n",
    "            test_acc = accuracy_score(y_true=y_test, y_pred=testPreds)\n",
    "            print(f'Accuracy on train set is {train_acc:.3%}')\n",
    "            print(f'Accuracy on validation set is {val_acc:.3%}')\n",
    "            print(f'Accuracy on test set is {test_acc:.3%}')\n",
    "            print('Classification report for train set')\n",
    "            print(classification_report(y_true=y_train, y_pred=trainPreds))\n",
    "            print('Classification report for validation set')\n",
    "            print(classification_report(y_true=y_val, y_pred=valPreds))\n",
    "            print('Classification report for test set')\n",
    "            print(classification_report(y_true=y_test, y_pred=testPreds))\n",
    "            print('Finished evaluating the models')"
   ],
   "metadata": {
    "collapsed": false
   }
  },
  {
   "cell_type": "code",
   "execution_count": 247,
   "outputs": [
    {
     "name": "stderr",
     "output_type": "stream",
     "text": [
      "C:\\Users\\krina\\PycharmProjects\\PROJECT\\venv\\lib\\site-packages\\xgboost\\sklearn.py:1395: UserWarning: `use_label_encoder` is deprecated in 1.7.0.\n",
      "  warnings.warn(\"`use_label_encoder` is deprecated in 1.7.0.\")\n"
     ]
    },
    {
     "name": "stdout",
     "output_type": "stream",
     "text": [
      "Training model dt\n",
      "Took 0.027997970581054688s to train\n",
      "Training model rf\n",
      "Took 0.34241485595703125s to train\n",
      "Training model xgb\n",
      "Took 7.692988634109497s to train\n",
      "Finished training all models\n"
     ]
    }
   ],
   "source": [
    "models = Models()\n",
    "models.fit(X_train, y_train)"
   ],
   "metadata": {
    "collapsed": false
   }
  },
  {
   "cell_type": "code",
   "execution_count": 249,
   "outputs": [],
   "source": [
    "import warnings\n",
    "warnings.filterwarnings('always')"
   ],
   "metadata": {
    "collapsed": false
   }
  },
  {
   "cell_type": "code",
   "execution_count": 250,
   "outputs": [
    {
     "name": "stdout",
     "output_type": "stream",
     "text": [
      "Evaluating model dt\n",
      "Accuracy on train set is 54.208%\n",
      "Accuracy on validation set is 54.350%\n",
      "Accuracy on test set is 54.487%\n",
      "Classification report for train set\n",
      "              precision    recall  f1-score   support\n",
      "\n",
      "           0       0.17      0.64      0.27       181\n",
      "           1       0.00      0.00      0.00       201\n",
      "           2       0.00      0.00      0.00        36\n",
      "           3       0.00      0.00      0.00        19\n",
      "           4       0.00      0.00      0.00        52\n",
      "           5       0.21      0.55      0.30       382\n",
      "           6       0.00      0.00      0.00        25\n",
      "           7       0.58      0.76      0.66      1004\n",
      "           8       0.65      0.22      0.32       990\n",
      "           9       0.00      0.00      0.00        17\n",
      "          10       0.00      0.00      0.00        72\n",
      "          11       0.33      0.28      0.30       359\n",
      "          12       0.00      0.00      0.00       124\n",
      "          13       0.00      0.00      0.00        84\n",
      "          14       0.92      0.75      0.83       988\n",
      "          15       0.00      0.00      0.00        76\n",
      "          16       0.26      0.36      0.30        28\n",
      "          17       0.60      0.02      0.03       176\n",
      "          18       0.00      0.00      0.00        27\n",
      "          19       0.00      0.00      0.00        14\n",
      "          20       0.00      0.00      0.00        14\n",
      "          21       0.00      0.00      0.00        21\n",
      "          22       0.00      0.00      0.00        10\n",
      "          23       0.00      0.00      0.00       166\n",
      "          24       0.58      0.91      0.71      7374\n",
      "          25       0.00      0.00      0.00       245\n",
      "          26       0.00      0.00      0.00       135\n",
      "          27       0.00      0.00      0.00       590\n",
      "          28       0.00      0.00      0.00        16\n",
      "          29       0.00      0.00      0.00        91\n",
      "          30       0.25      0.74      0.38        19\n",
      "          31       0.00      0.00      0.00       220\n",
      "          32       0.54      0.46      0.50       396\n",
      "          33       0.00      0.00      0.00        60\n",
      "          34       0.00      0.00      0.00        11\n",
      "          35       0.00      0.00      0.00       165\n",
      "          36       0.00      0.00      0.00       271\n",
      "          37       0.00      0.00      0.00       420\n",
      "          38       0.00      0.00      0.00        31\n",
      "          39       0.00      0.00      0.00        36\n",
      "          40       0.00      0.00      0.00       169\n",
      "          41       0.30      0.25      0.27       903\n",
      "          42       0.00      0.00      0.00       148\n",
      "          43       0.00      0.00      0.00        24\n",
      "          44       0.00      0.00      0.00       119\n",
      "          45       0.00      0.00      0.00        13\n",
      "          46       0.00      0.00      0.00       284\n",
      "          47       0.00      0.00      0.00       236\n",
      "          48       0.57      0.28      0.38       100\n",
      "          49       0.74      0.52      0.61       295\n",
      "          50       0.00      0.00      0.00         8\n",
      "          51       1.00      0.06      0.11        34\n",
      "\n",
      "    accuracy                           0.54     17479\n",
      "   macro avg       0.15      0.13      0.11     17479\n",
      "weighted avg       0.43      0.54      0.46     17479\n",
      "\n",
      "Classification report for validation set\n",
      "              precision    recall  f1-score   support\n",
      "\n",
      "           0       0.10      0.39      0.16        23\n",
      "           1       0.00      0.00      0.00        25\n",
      "           2       0.00      0.00      0.00         4\n",
      "           3       0.00      0.00      0.00         3\n",
      "           4       0.00      0.00      0.00         7\n",
      "           5       0.21      0.56      0.30        48\n",
      "           6       0.00      0.00      0.00         3\n",
      "           7       0.60      0.74      0.66       125\n",
      "           8       0.70      0.25      0.37       124\n",
      "           9       0.00      0.00      0.00         2\n",
      "          10       0.00      0.00      0.00         9\n",
      "          11       0.43      0.29      0.35        45\n",
      "          12       0.00      0.00      0.00        16\n",
      "          13       0.00      0.00      0.00        10\n",
      "          14       0.88      0.76      0.81       123\n",
      "          15       0.00      0.00      0.00         9\n",
      "          16       0.20      0.33      0.25         3\n",
      "          17       0.00      0.00      0.00        22\n",
      "          18       0.00      0.00      0.00         3\n",
      "          19       0.00      0.00      0.00         2\n",
      "          20       0.00      0.00      0.00         2\n",
      "          21       0.00      0.00      0.00         3\n",
      "          22       0.00      0.00      0.00         1\n",
      "          23       0.00      0.00      0.00        21\n",
      "          24       0.58      0.92      0.71       921\n",
      "          25       0.00      0.00      0.00        31\n",
      "          26       0.00      0.00      0.00        17\n",
      "          27       0.00      0.00      0.00        74\n",
      "          28       0.00      0.00      0.00         2\n",
      "          29       0.00      0.00      0.00        11\n",
      "          30       0.09      0.50      0.15         2\n",
      "          31       0.00      0.00      0.00        27\n",
      "          32       0.62      0.49      0.55        49\n",
      "          33       0.00      0.00      0.00         8\n",
      "          34       0.00      0.00      0.00         1\n",
      "          35       0.00      0.00      0.00        21\n",
      "          36       0.00      0.00      0.00        34\n",
      "          37       0.00      0.00      0.00        53\n",
      "          38       0.00      0.00      0.00         4\n",
      "          39       0.00      0.00      0.00         4\n",
      "          40       0.00      0.00      0.00        21\n",
      "          41       0.33      0.23      0.27       113\n",
      "          42       0.00      0.00      0.00        18\n",
      "          43       0.00      0.00      0.00         3\n",
      "          44       0.00      0.00      0.00        15\n",
      "          45       0.00      0.00      0.00         2\n",
      "          46       0.00      0.00      0.00        36\n",
      "          47       0.00      0.00      0.00        30\n",
      "          48       0.60      0.25      0.35        12\n",
      "          49       0.83      0.51      0.63        37\n",
      "          50       0.00      0.00      0.00         1\n",
      "          51       0.00      0.00      0.00         4\n",
      "\n",
      "    accuracy                           0.54      2184\n",
      "   macro avg       0.12      0.12      0.11      2184\n",
      "weighted avg       0.43      0.54      0.46      2184\n",
      "\n",
      "Classification report for test set\n",
      "              precision    recall  f1-score   support\n",
      "\n",
      "           0       0.19      0.70      0.30        23\n",
      "           1       0.00      0.00      0.00        25\n",
      "           2       0.00      0.00      0.00         4\n",
      "           3       0.00      0.00      0.00         2\n",
      "           4       0.00      0.00      0.00         7\n",
      "           5       0.24      0.62      0.35        48\n",
      "           6       0.00      0.00      0.00         3\n",
      "           7       0.62      0.81      0.70       125\n",
      "           8       0.61      0.20      0.30       124\n",
      "           9       0.00      0.00      0.00         2\n",
      "          10       0.00      0.00      0.00         9\n",
      "          11       0.33      0.29      0.31        45\n",
      "          12       0.00      0.00      0.00        16\n",
      "          13       0.00      0.00      0.00        11\n",
      "          14       0.91      0.81      0.86       123\n",
      "          15       0.00      0.00      0.00         9\n",
      "          16       0.50      0.67      0.57         3\n",
      "          17       1.00      0.05      0.09        22\n",
      "          18       0.00      0.00      0.00         3\n",
      "          19       0.00      0.00      0.00         2\n",
      "          20       0.00      0.00      0.00         2\n",
      "          21       0.00      0.00      0.00         3\n",
      "          22       0.00      0.00      0.00         1\n",
      "          23       0.00      0.00      0.00        21\n",
      "          24       0.58      0.90      0.70       921\n",
      "          25       0.00      0.00      0.00        31\n",
      "          26       0.00      0.00      0.00        17\n",
      "          27       0.00      0.00      0.00        74\n",
      "          28       0.00      0.00      0.00         2\n",
      "          29       0.00      0.00      0.00        11\n",
      "          30       0.09      0.50      0.15         2\n",
      "          31       0.00      0.00      0.00        28\n",
      "          32       0.59      0.39      0.47        49\n",
      "          33       0.00      0.00      0.00         8\n",
      "          34       0.00      0.00      0.00         1\n",
      "          35       0.00      0.00      0.00        21\n",
      "          36       0.00      0.00      0.00        34\n",
      "          37       0.00      0.00      0.00        52\n",
      "          38       0.00      0.00      0.00         4\n",
      "          39       0.00      0.00      0.00         4\n",
      "          40       0.00      0.00      0.00        21\n",
      "          41       0.30      0.29      0.30       113\n",
      "          42       0.00      0.00      0.00        18\n",
      "          43       0.00      0.00      0.00         3\n",
      "          44       0.00      0.00      0.00        15\n",
      "          45       0.00      0.00      0.00         2\n",
      "          46       0.00      0.00      0.00        36\n",
      "          47       0.00      0.00      0.00        30\n",
      "          48       0.60      0.25      0.35        12\n",
      "          49       0.86      0.51      0.64        37\n",
      "          50       0.00      0.00      0.00         1\n",
      "          51       1.00      0.25      0.40         4\n",
      "\n",
      "    accuracy                           0.54      2184\n",
      "   macro avg       0.16      0.14      0.12      2184\n",
      "weighted avg       0.44      0.54      0.46      2184\n",
      "\n",
      "Finished evaluating the models\n",
      "Evaluating model rf\n"
     ]
    },
    {
     "name": "stderr",
     "output_type": "stream",
     "text": [
      "C:\\Users\\krina\\PycharmProjects\\PROJECT\\venv\\lib\\site-packages\\sklearn\\metrics\\_classification.py:1344: UndefinedMetricWarning: Precision and F-score are ill-defined and being set to 0.0 in labels with no predicted samples. Use `zero_division` parameter to control this behavior.\n",
      "  _warn_prf(average, modifier, msg_start, len(result))\n",
      "C:\\Users\\krina\\PycharmProjects\\PROJECT\\venv\\lib\\site-packages\\sklearn\\metrics\\_classification.py:1344: UndefinedMetricWarning: Precision and F-score are ill-defined and being set to 0.0 in labels with no predicted samples. Use `zero_division` parameter to control this behavior.\n",
      "  _warn_prf(average, modifier, msg_start, len(result))\n",
      "C:\\Users\\krina\\PycharmProjects\\PROJECT\\venv\\lib\\site-packages\\sklearn\\metrics\\_classification.py:1344: UndefinedMetricWarning: Precision and F-score are ill-defined and being set to 0.0 in labels with no predicted samples. Use `zero_division` parameter to control this behavior.\n",
      "  _warn_prf(average, modifier, msg_start, len(result))\n",
      "C:\\Users\\krina\\PycharmProjects\\PROJECT\\venv\\lib\\site-packages\\sklearn\\metrics\\_classification.py:1344: UndefinedMetricWarning: Precision and F-score are ill-defined and being set to 0.0 in labels with no predicted samples. Use `zero_division` parameter to control this behavior.\n",
      "  _warn_prf(average, modifier, msg_start, len(result))\n",
      "C:\\Users\\krina\\PycharmProjects\\PROJECT\\venv\\lib\\site-packages\\sklearn\\metrics\\_classification.py:1344: UndefinedMetricWarning: Precision and F-score are ill-defined and being set to 0.0 in labels with no predicted samples. Use `zero_division` parameter to control this behavior.\n",
      "  _warn_prf(average, modifier, msg_start, len(result))\n",
      "C:\\Users\\krina\\PycharmProjects\\PROJECT\\venv\\lib\\site-packages\\sklearn\\metrics\\_classification.py:1344: UndefinedMetricWarning: Precision and F-score are ill-defined and being set to 0.0 in labels with no predicted samples. Use `zero_division` parameter to control this behavior.\n",
      "  _warn_prf(average, modifier, msg_start, len(result))\n",
      "C:\\Users\\krina\\PycharmProjects\\PROJECT\\venv\\lib\\site-packages\\sklearn\\metrics\\_classification.py:1344: UndefinedMetricWarning: Precision and F-score are ill-defined and being set to 0.0 in labels with no predicted samples. Use `zero_division` parameter to control this behavior.\n",
      "  _warn_prf(average, modifier, msg_start, len(result))\n",
      "C:\\Users\\krina\\PycharmProjects\\PROJECT\\venv\\lib\\site-packages\\sklearn\\metrics\\_classification.py:1344: UndefinedMetricWarning: Precision and F-score are ill-defined and being set to 0.0 in labels with no predicted samples. Use `zero_division` parameter to control this behavior.\n",
      "  _warn_prf(average, modifier, msg_start, len(result))\n",
      "C:\\Users\\krina\\PycharmProjects\\PROJECT\\venv\\lib\\site-packages\\sklearn\\metrics\\_classification.py:1344: UndefinedMetricWarning: Precision and F-score are ill-defined and being set to 0.0 in labels with no predicted samples. Use `zero_division` parameter to control this behavior.\n",
      "  _warn_prf(average, modifier, msg_start, len(result))\n"
     ]
    },
    {
     "name": "stdout",
     "output_type": "stream",
     "text": [
      "Accuracy on train set is 54.208%\n",
      "Accuracy on validation set is 54.304%\n",
      "Accuracy on test set is 54.533%\n",
      "Classification report for train set\n",
      "              precision    recall  f1-score   support\n",
      "\n",
      "           0       0.17      0.64      0.27       181\n",
      "           1       0.00      0.00      0.00       201\n",
      "           2       0.00      0.00      0.00        36\n",
      "           3       0.00      0.00      0.00        19\n",
      "           4       0.00      0.00      0.00        52\n",
      "           5       0.21      0.55      0.30       382\n",
      "           6       0.00      0.00      0.00        25\n",
      "           7       0.58      0.76      0.66      1004\n",
      "           8       0.65      0.22      0.32       990\n",
      "           9       0.00      0.00      0.00        17\n",
      "          10       0.00      0.00      0.00        72\n",
      "          11       0.33      0.28      0.30       359\n",
      "          12       0.00      0.00      0.00       124\n",
      "          13       0.00      0.00      0.00        84\n",
      "          14       0.92      0.75      0.83       988\n",
      "          15       0.00      0.00      0.00        76\n",
      "          16       0.26      0.36      0.30        28\n",
      "          17       0.60      0.02      0.03       176\n",
      "          18       0.00      0.00      0.00        27\n",
      "          19       0.00      0.00      0.00        14\n",
      "          20       0.00      0.00      0.00        14\n",
      "          21       0.00      0.00      0.00        21\n",
      "          22       0.00      0.00      0.00        10\n",
      "          23       0.00      0.00      0.00       166\n",
      "          24       0.58      0.91      0.71      7374\n",
      "          25       0.00      0.00      0.00       245\n",
      "          26       0.00      0.00      0.00       135\n",
      "          27       0.00      0.00      0.00       590\n",
      "          28       0.00      0.00      0.00        16\n",
      "          29       0.00      0.00      0.00        91\n",
      "          30       0.25      0.74      0.38        19\n",
      "          31       0.27      0.02      0.03       220\n",
      "          32       0.54      0.46      0.50       396\n",
      "          33       0.00      0.00      0.00        60\n",
      "          34       0.00      0.00      0.00        11\n",
      "          35       0.00      0.00      0.00       165\n",
      "          36       0.00      0.00      0.00       271\n",
      "          37       0.00      0.00      0.00       420\n",
      "          38       0.00      0.00      0.00        31\n",
      "          39       0.00      0.00      0.00        36\n",
      "          40       0.00      0.00      0.00       169\n",
      "          41       0.30      0.25      0.27       903\n",
      "          42       0.00      0.00      0.00       148\n",
      "          43       0.00      0.00      0.00        24\n",
      "          44       0.00      0.00      0.00       119\n",
      "          45       0.00      0.00      0.00        13\n",
      "          46       0.00      0.00      0.00       284\n",
      "          47       0.00      0.00      0.00       236\n",
      "          48       0.57      0.28      0.38       100\n",
      "          49       0.74      0.52      0.61       295\n",
      "          50       0.00      0.00      0.00         8\n",
      "          51       1.00      0.06      0.11        34\n",
      "\n",
      "    accuracy                           0.54     17479\n",
      "   macro avg       0.15      0.13      0.12     17479\n",
      "weighted avg       0.44      0.54      0.46     17479\n",
      "\n",
      "Classification report for validation set\n",
      "              precision    recall  f1-score   support\n",
      "\n",
      "           0       0.10      0.39      0.16        23\n",
      "           1       0.00      0.00      0.00        25\n",
      "           2       0.00      0.00      0.00         4\n",
      "           3       0.00      0.00      0.00         3\n",
      "           4       0.00      0.00      0.00         7\n",
      "           5       0.21      0.56      0.30        48\n",
      "           6       0.00      0.00      0.00         3\n",
      "           7       0.60      0.74      0.66       125\n",
      "           8       0.70      0.25      0.37       124\n",
      "           9       0.00      0.00      0.00         2\n",
      "          10       0.00      0.00      0.00         9\n",
      "          11       0.43      0.29      0.35        45\n",
      "          12       0.00      0.00      0.00        16\n",
      "          13       0.00      0.00      0.00        10\n",
      "          14       0.88      0.76      0.81       123\n",
      "          15       0.00      0.00      0.00         9\n",
      "          16       0.20      0.33      0.25         3\n",
      "          17       0.00      0.00      0.00        22\n",
      "          18       0.00      0.00      0.00         3\n",
      "          19       0.00      0.00      0.00         2\n",
      "          20       0.00      0.00      0.00         2\n",
      "          21       0.00      0.00      0.00         3\n",
      "          22       0.00      0.00      0.00         1\n",
      "          23       0.00      0.00      0.00        21\n",
      "          24       0.58      0.92      0.71       921\n",
      "          25       0.00      0.00      0.00        31\n",
      "          26       0.00      0.00      0.00        17\n",
      "          27       0.00      0.00      0.00        74\n",
      "          28       0.00      0.00      0.00         2\n",
      "          29       0.00      0.00      0.00        11\n",
      "          30       0.09      0.50      0.15         2\n",
      "          31       0.33      0.04      0.07        27\n",
      "          32       0.62      0.49      0.55        49\n",
      "          33       0.00      0.00      0.00         8\n",
      "          34       0.00      0.00      0.00         1\n",
      "          35       0.00      0.00      0.00        21\n",
      "          36       0.00      0.00      0.00        34\n",
      "          37       0.00      0.00      0.00        53\n",
      "          38       0.00      0.00      0.00         4\n",
      "          39       0.00      0.00      0.00         4\n",
      "          40       0.00      0.00      0.00        21\n",
      "          41       0.33      0.23      0.27       113\n",
      "          42       0.00      0.00      0.00        18\n",
      "          43       0.00      0.00      0.00         3\n",
      "          44       0.00      0.00      0.00        15\n",
      "          45       0.00      0.00      0.00         2\n",
      "          46       0.00      0.00      0.00        36\n",
      "          47       0.00      0.00      0.00        30\n",
      "          48       0.60      0.25      0.35        12\n",
      "          49       0.83      0.51      0.63        37\n",
      "          50       0.00      0.00      0.00         1\n",
      "          51       0.00      0.00      0.00         4\n",
      "\n",
      "    accuracy                           0.54      2184\n",
      "   macro avg       0.12      0.12      0.11      2184\n",
      "weighted avg       0.43      0.54      0.46      2184\n",
      "\n",
      "Classification report for test set\n",
      "              precision    recall  f1-score   support\n",
      "\n",
      "           0       0.19      0.70      0.30        23\n",
      "           1       0.00      0.00      0.00        25\n",
      "           2       0.00      0.00      0.00         4\n",
      "           3       0.00      0.00      0.00         2\n",
      "           4       0.00      0.00      0.00         7\n",
      "           5       0.24      0.62      0.35        48\n",
      "           6       0.00      0.00      0.00         3\n",
      "           7       0.62      0.81      0.70       125\n",
      "           8       0.61      0.20      0.30       124\n",
      "           9       0.00      0.00      0.00         2\n",
      "          10       0.00      0.00      0.00         9\n",
      "          11       0.33      0.29      0.31        45\n",
      "          12       0.00      0.00      0.00        16\n",
      "          13       0.00      0.00      0.00        11\n",
      "          14       0.91      0.81      0.86       123\n",
      "          15       0.00      0.00      0.00         9\n",
      "          16       0.50      0.67      0.57         3\n",
      "          17       1.00      0.05      0.09        22\n",
      "          18       0.00      0.00      0.00         3\n",
      "          19       0.00      0.00      0.00         2\n",
      "          20       0.00      0.00      0.00         2\n",
      "          21       0.00      0.00      0.00         3\n",
      "          22       0.00      0.00      0.00         1\n",
      "          23       0.00      0.00      0.00        21\n",
      "          24       0.58      0.90      0.70       921\n",
      "          25       0.00      0.00      0.00        31\n",
      "          26       0.00      0.00      0.00        17\n",
      "          27       0.00      0.00      0.00        74\n",
      "          28       0.00      0.00      0.00         2\n",
      "          29       0.00      0.00      0.00        11\n",
      "          30       0.09      0.50      0.15         2\n",
      "          31       0.50      0.04      0.07        28\n",
      "          32       0.59      0.39      0.47        49\n",
      "          33       0.00      0.00      0.00         8\n",
      "          34       0.00      0.00      0.00         1\n",
      "          35       0.00      0.00      0.00        21\n",
      "          36       0.00      0.00      0.00        34\n",
      "          37       0.00      0.00      0.00        52\n",
      "          38       0.00      0.00      0.00         4\n",
      "          39       0.00      0.00      0.00         4\n",
      "          40       0.00      0.00      0.00        21\n",
      "          41       0.30      0.29      0.30       113\n",
      "          42       0.00      0.00      0.00        18\n",
      "          43       0.00      0.00      0.00         3\n",
      "          44       0.00      0.00      0.00        15\n",
      "          45       0.00      0.00      0.00         2\n",
      "          46       0.00      0.00      0.00        36\n",
      "          47       0.00      0.00      0.00        30\n",
      "          48       0.60      0.25      0.35        12\n",
      "          49       0.86      0.51      0.64        37\n",
      "          50       0.00      0.00      0.00         1\n",
      "          51       1.00      0.25      0.40         4\n",
      "\n",
      "    accuracy                           0.55      2184\n",
      "   macro avg       0.17      0.14      0.13      2184\n",
      "weighted avg       0.44      0.55      0.46      2184\n",
      "\n",
      "Finished evaluating the models\n",
      "Evaluating model xgb\n"
     ]
    },
    {
     "name": "stderr",
     "output_type": "stream",
     "text": [
      "C:\\Users\\krina\\PycharmProjects\\PROJECT\\venv\\lib\\site-packages\\sklearn\\metrics\\_classification.py:1344: UndefinedMetricWarning: Precision and F-score are ill-defined and being set to 0.0 in labels with no predicted samples. Use `zero_division` parameter to control this behavior.\n",
      "  _warn_prf(average, modifier, msg_start, len(result))\n",
      "C:\\Users\\krina\\PycharmProjects\\PROJECT\\venv\\lib\\site-packages\\sklearn\\metrics\\_classification.py:1344: UndefinedMetricWarning: Precision and F-score are ill-defined and being set to 0.0 in labels with no predicted samples. Use `zero_division` parameter to control this behavior.\n",
      "  _warn_prf(average, modifier, msg_start, len(result))\n",
      "C:\\Users\\krina\\PycharmProjects\\PROJECT\\venv\\lib\\site-packages\\sklearn\\metrics\\_classification.py:1344: UndefinedMetricWarning: Precision and F-score are ill-defined and being set to 0.0 in labels with no predicted samples. Use `zero_division` parameter to control this behavior.\n",
      "  _warn_prf(average, modifier, msg_start, len(result))\n",
      "C:\\Users\\krina\\PycharmProjects\\PROJECT\\venv\\lib\\site-packages\\sklearn\\metrics\\_classification.py:1344: UndefinedMetricWarning: Precision and F-score are ill-defined and being set to 0.0 in labels with no predicted samples. Use `zero_division` parameter to control this behavior.\n",
      "  _warn_prf(average, modifier, msg_start, len(result))\n",
      "C:\\Users\\krina\\PycharmProjects\\PROJECT\\venv\\lib\\site-packages\\sklearn\\metrics\\_classification.py:1344: UndefinedMetricWarning: Precision and F-score are ill-defined and being set to 0.0 in labels with no predicted samples. Use `zero_division` parameter to control this behavior.\n",
      "  _warn_prf(average, modifier, msg_start, len(result))\n",
      "C:\\Users\\krina\\PycharmProjects\\PROJECT\\venv\\lib\\site-packages\\sklearn\\metrics\\_classification.py:1344: UndefinedMetricWarning: Precision and F-score are ill-defined and being set to 0.0 in labels with no predicted samples. Use `zero_division` parameter to control this behavior.\n",
      "  _warn_prf(average, modifier, msg_start, len(result))\n",
      "C:\\Users\\krina\\PycharmProjects\\PROJECT\\venv\\lib\\site-packages\\sklearn\\metrics\\_classification.py:1344: UndefinedMetricWarning: Precision and F-score are ill-defined and being set to 0.0 in labels with no predicted samples. Use `zero_division` parameter to control this behavior.\n",
      "  _warn_prf(average, modifier, msg_start, len(result))\n",
      "C:\\Users\\krina\\PycharmProjects\\PROJECT\\venv\\lib\\site-packages\\sklearn\\metrics\\_classification.py:1344: UndefinedMetricWarning: Precision and F-score are ill-defined and being set to 0.0 in labels with no predicted samples. Use `zero_division` parameter to control this behavior.\n",
      "  _warn_prf(average, modifier, msg_start, len(result))\n",
      "C:\\Users\\krina\\PycharmProjects\\PROJECT\\venv\\lib\\site-packages\\sklearn\\metrics\\_classification.py:1344: UndefinedMetricWarning: Precision and F-score are ill-defined and being set to 0.0 in labels with no predicted samples. Use `zero_division` parameter to control this behavior.\n",
      "  _warn_prf(average, modifier, msg_start, len(result))\n"
     ]
    },
    {
     "name": "stdout",
     "output_type": "stream",
     "text": [
      "Accuracy on train set is 54.191%\n",
      "Accuracy on validation set is 54.350%\n",
      "Accuracy on test set is 54.441%\n",
      "Classification report for train set\n",
      "              precision    recall  f1-score   support\n",
      "\n",
      "           0       0.17      0.64      0.27       181\n",
      "           1       0.00      0.00      0.00       201\n",
      "           2       0.00      0.00      0.00        36\n",
      "           3       0.00      0.00      0.00        19\n",
      "           4       0.00      0.00      0.00        52\n",
      "           5       0.21      0.55      0.30       382\n",
      "           6       0.00      0.00      0.00        25\n",
      "           7       0.58      0.76      0.66      1004\n",
      "           8       0.65      0.22      0.32       990\n",
      "           9       0.00      0.00      0.00        17\n",
      "          10       0.00      0.00      0.00        72\n",
      "          11       0.33      0.28      0.30       359\n",
      "          12       0.00      0.00      0.00       124\n",
      "          13       0.00      0.00      0.00        84\n",
      "          14       0.92      0.75      0.83       988\n",
      "          15       0.00      0.00      0.00        76\n",
      "          16       0.26      0.36      0.30        28\n",
      "          17       0.00      0.00      0.00       176\n",
      "          18       0.00      0.00      0.00        27\n",
      "          19       0.00      0.00      0.00        14\n",
      "          20       0.00      0.00      0.00        14\n",
      "          21       0.00      0.00      0.00        21\n",
      "          22       0.00      0.00      0.00        10\n",
      "          23       0.00      0.00      0.00       166\n",
      "          24       0.58      0.91      0.71      7374\n",
      "          25       0.00      0.00      0.00       245\n",
      "          26       0.00      0.00      0.00       135\n",
      "          27       0.00      0.00      0.00       590\n",
      "          28       0.00      0.00      0.00        16\n",
      "          29       0.00      0.00      0.00        91\n",
      "          30       0.25      0.74      0.38        19\n",
      "          31       0.00      0.00      0.00       220\n",
      "          32       0.54      0.46      0.50       396\n",
      "          33       0.00      0.00      0.00        60\n",
      "          34       0.00      0.00      0.00        11\n",
      "          35       0.00      0.00      0.00       165\n",
      "          36       0.00      0.00      0.00       271\n",
      "          37       0.00      0.00      0.00       420\n",
      "          38       0.00      0.00      0.00        31\n",
      "          39       0.00      0.00      0.00        36\n",
      "          40       0.00      0.00      0.00       169\n",
      "          41       0.30      0.25      0.27       903\n",
      "          42       0.00      0.00      0.00       148\n",
      "          43       0.00      0.00      0.00        24\n",
      "          44       0.00      0.00      0.00       119\n",
      "          45       0.00      0.00      0.00        13\n",
      "          46       0.00      0.00      0.00       284\n",
      "          47       0.00      0.00      0.00       236\n",
      "          48       0.57      0.28      0.38       100\n",
      "          49       0.74      0.52      0.61       295\n",
      "          50       0.00      0.00      0.00         8\n",
      "          51       1.00      0.06      0.11        34\n",
      "\n",
      "    accuracy                           0.54     17479\n",
      "   macro avg       0.14      0.13      0.11     17479\n",
      "weighted avg       0.43      0.54      0.46     17479\n",
      "\n",
      "Classification report for validation set\n",
      "              precision    recall  f1-score   support\n",
      "\n",
      "           0       0.10      0.39      0.16        23\n",
      "           1       0.00      0.00      0.00        25\n",
      "           2       0.00      0.00      0.00         4\n",
      "           3       0.00      0.00      0.00         3\n",
      "           4       0.00      0.00      0.00         7\n",
      "           5       0.21      0.56      0.30        48\n",
      "           6       0.00      0.00      0.00         3\n",
      "           7       0.60      0.74      0.66       125\n",
      "           8       0.70      0.25      0.37       124\n",
      "           9       0.00      0.00      0.00         2\n",
      "          10       0.00      0.00      0.00         9\n",
      "          11       0.43      0.29      0.35        45\n",
      "          12       0.00      0.00      0.00        16\n",
      "          13       0.00      0.00      0.00        10\n",
      "          14       0.88      0.76      0.81       123\n",
      "          15       0.00      0.00      0.00         9\n",
      "          16       0.20      0.33      0.25         3\n",
      "          17       0.00      0.00      0.00        22\n",
      "          18       0.00      0.00      0.00         3\n",
      "          19       0.00      0.00      0.00         2\n",
      "          20       0.00      0.00      0.00         2\n",
      "          21       0.00      0.00      0.00         3\n",
      "          22       0.00      0.00      0.00         1\n",
      "          23       0.00      0.00      0.00        21\n",
      "          24       0.58      0.92      0.71       921\n",
      "          25       0.00      0.00      0.00        31\n",
      "          26       0.00      0.00      0.00        17\n",
      "          27       0.00      0.00      0.00        74\n",
      "          28       0.00      0.00      0.00         2\n",
      "          29       0.00      0.00      0.00        11\n",
      "          30       0.09      0.50      0.15         2\n",
      "          31       0.00      0.00      0.00        27\n",
      "          32       0.62      0.49      0.55        49\n",
      "          33       0.00      0.00      0.00         8\n",
      "          34       0.00      0.00      0.00         1\n",
      "          35       0.00      0.00      0.00        21\n",
      "          36       0.00      0.00      0.00        34\n",
      "          37       0.00      0.00      0.00        53\n",
      "          38       0.00      0.00      0.00         4\n",
      "          39       0.00      0.00      0.00         4\n",
      "          40       0.00      0.00      0.00        21\n",
      "          41       0.33      0.23      0.27       113\n",
      "          42       0.00      0.00      0.00        18\n",
      "          43       0.00      0.00      0.00         3\n",
      "          44       0.00      0.00      0.00        15\n",
      "          45       0.00      0.00      0.00         2\n",
      "          46       0.00      0.00      0.00        36\n",
      "          47       0.00      0.00      0.00        30\n",
      "          48       0.60      0.25      0.35        12\n",
      "          49       0.83      0.51      0.63        37\n",
      "          50       0.00      0.00      0.00         1\n",
      "          51       0.00      0.00      0.00         4\n",
      "\n",
      "    accuracy                           0.54      2184\n",
      "   macro avg       0.12      0.12      0.11      2184\n",
      "weighted avg       0.43      0.54      0.46      2184\n",
      "\n",
      "Classification report for test set\n",
      "              precision    recall  f1-score   support\n",
      "\n",
      "           0       0.19      0.70      0.30        23\n",
      "           1       0.00      0.00      0.00        25\n",
      "           2       0.00      0.00      0.00         4\n",
      "           3       0.00      0.00      0.00         2\n",
      "           4       0.00      0.00      0.00         7\n",
      "           5       0.24      0.62      0.35        48\n",
      "           6       0.00      0.00      0.00         3\n",
      "           7       0.62      0.81      0.70       125\n",
      "           8       0.61      0.20      0.30       124\n",
      "           9       0.00      0.00      0.00         2\n",
      "          10       0.00      0.00      0.00         9\n",
      "          11       0.33      0.29      0.31        45\n",
      "          12       0.00      0.00      0.00        16\n",
      "          13       0.00      0.00      0.00        11\n",
      "          14       0.91      0.81      0.86       123\n",
      "          15       0.00      0.00      0.00         9\n",
      "          16       0.50      0.67      0.57         3\n",
      "          17       0.00      0.00      0.00        22\n",
      "          18       0.00      0.00      0.00         3\n",
      "          19       0.00      0.00      0.00         2\n",
      "          20       0.00      0.00      0.00         2\n",
      "          21       0.00      0.00      0.00         3\n",
      "          22       0.00      0.00      0.00         1\n",
      "          23       0.00      0.00      0.00        21\n",
      "          24       0.57      0.90      0.70       921\n",
      "          25       0.00      0.00      0.00        31\n",
      "          26       0.00      0.00      0.00        17\n",
      "          27       0.00      0.00      0.00        74\n",
      "          28       0.00      0.00      0.00         2\n",
      "          29       0.00      0.00      0.00        11\n",
      "          30       0.09      0.50      0.15         2\n",
      "          31       0.00      0.00      0.00        28\n",
      "          32       0.59      0.39      0.47        49\n",
      "          33       0.00      0.00      0.00         8\n",
      "          34       0.00      0.00      0.00         1\n",
      "          35       0.00      0.00      0.00        21\n",
      "          36       0.00      0.00      0.00        34\n",
      "          37       0.00      0.00      0.00        52\n",
      "          38       0.00      0.00      0.00         4\n",
      "          39       0.00      0.00      0.00         4\n",
      "          40       0.00      0.00      0.00        21\n",
      "          41       0.30      0.29      0.30       113\n",
      "          42       0.00      0.00      0.00        18\n",
      "          43       0.00      0.00      0.00         3\n",
      "          44       0.00      0.00      0.00        15\n",
      "          45       0.00      0.00      0.00         2\n",
      "          46       0.00      0.00      0.00        36\n",
      "          47       0.00      0.00      0.00        30\n",
      "          48       0.60      0.25      0.35        12\n",
      "          49       0.86      0.51      0.64        37\n",
      "          50       0.00      0.00      0.00         1\n",
      "          51       1.00      0.25      0.40         4\n",
      "\n",
      "    accuracy                           0.54      2184\n",
      "   macro avg       0.14      0.14      0.12      2184\n",
      "weighted avg       0.43      0.54      0.46      2184\n",
      "\n",
      "Finished evaluating the models\n"
     ]
    },
    {
     "name": "stderr",
     "output_type": "stream",
     "text": [
      "C:\\Users\\krina\\PycharmProjects\\PROJECT\\venv\\lib\\site-packages\\sklearn\\metrics\\_classification.py:1344: UndefinedMetricWarning: Precision and F-score are ill-defined and being set to 0.0 in labels with no predicted samples. Use `zero_division` parameter to control this behavior.\n",
      "  _warn_prf(average, modifier, msg_start, len(result))\n",
      "C:\\Users\\krina\\PycharmProjects\\PROJECT\\venv\\lib\\site-packages\\sklearn\\metrics\\_classification.py:1344: UndefinedMetricWarning: Precision and F-score are ill-defined and being set to 0.0 in labels with no predicted samples. Use `zero_division` parameter to control this behavior.\n",
      "  _warn_prf(average, modifier, msg_start, len(result))\n",
      "C:\\Users\\krina\\PycharmProjects\\PROJECT\\venv\\lib\\site-packages\\sklearn\\metrics\\_classification.py:1344: UndefinedMetricWarning: Precision and F-score are ill-defined and being set to 0.0 in labels with no predicted samples. Use `zero_division` parameter to control this behavior.\n",
      "  _warn_prf(average, modifier, msg_start, len(result))\n",
      "C:\\Users\\krina\\PycharmProjects\\PROJECT\\venv\\lib\\site-packages\\sklearn\\metrics\\_classification.py:1344: UndefinedMetricWarning: Precision and F-score are ill-defined and being set to 0.0 in labels with no predicted samples. Use `zero_division` parameter to control this behavior.\n",
      "  _warn_prf(average, modifier, msg_start, len(result))\n",
      "C:\\Users\\krina\\PycharmProjects\\PROJECT\\venv\\lib\\site-packages\\sklearn\\metrics\\_classification.py:1344: UndefinedMetricWarning: Precision and F-score are ill-defined and being set to 0.0 in labels with no predicted samples. Use `zero_division` parameter to control this behavior.\n",
      "  _warn_prf(average, modifier, msg_start, len(result))\n",
      "C:\\Users\\krina\\PycharmProjects\\PROJECT\\venv\\lib\\site-packages\\sklearn\\metrics\\_classification.py:1344: UndefinedMetricWarning: Precision and F-score are ill-defined and being set to 0.0 in labels with no predicted samples. Use `zero_division` parameter to control this behavior.\n",
      "  _warn_prf(average, modifier, msg_start, len(result))\n",
      "C:\\Users\\krina\\PycharmProjects\\PROJECT\\venv\\lib\\site-packages\\sklearn\\metrics\\_classification.py:1344: UndefinedMetricWarning: Precision and F-score are ill-defined and being set to 0.0 in labels with no predicted samples. Use `zero_division` parameter to control this behavior.\n",
      "  _warn_prf(average, modifier, msg_start, len(result))\n",
      "C:\\Users\\krina\\PycharmProjects\\PROJECT\\venv\\lib\\site-packages\\sklearn\\metrics\\_classification.py:1344: UndefinedMetricWarning: Precision and F-score are ill-defined and being set to 0.0 in labels with no predicted samples. Use `zero_division` parameter to control this behavior.\n",
      "  _warn_prf(average, modifier, msg_start, len(result))\n",
      "C:\\Users\\krina\\PycharmProjects\\PROJECT\\venv\\lib\\site-packages\\sklearn\\metrics\\_classification.py:1344: UndefinedMetricWarning: Precision and F-score are ill-defined and being set to 0.0 in labels with no predicted samples. Use `zero_division` parameter to control this behavior.\n",
      "  _warn_prf(average, modifier, msg_start, len(result))\n"
     ]
    }
   ],
   "source": [
    "models.evaluate(X_train, y_train, X_val, y_val, X_test, y_test)"
   ],
   "metadata": {
    "collapsed": false
   }
  },
  {
   "cell_type": "code",
   "execution_count": 126,
   "outputs": [],
   "source": [
    "import pickle"
   ],
   "metadata": {
    "collapsed": false
   }
  },
  {
   "cell_type": "code",
   "execution_count": 127,
   "outputs": [],
   "source": [
    "pickle.dump(data, open('recc_model1.pkl','wb'))"
   ],
   "metadata": {
    "collapsed": false
   }
  },
  {
   "cell_type": "code",
   "execution_count": 130,
   "outputs": [],
   "source": [
    "# now we can load the model in the same file or in another file to make predictions\n",
    "loaded_model = pickle.load(open('recc_model1.pkl','rb'))\n",
    "#loaded_model"
   ],
   "metadata": {
    "collapsed": false
   }
  },
  {
   "cell_type": "code",
   "execution_count": 131,
   "outputs": [],
   "source": [
    "def predictNew(message, preprocessor, model):\n",
    "    message = preprocessor.transform(message)\n",
    "    pred = model.predict(message)\n",
    "    decoded_pred = preprocessor.encoder.inverse_transform(pred)[0]\n",
    "    return decoded_pred"
   ],
   "metadata": {
    "collapsed": false
   }
  },
  {
   "cell_type": "code",
   "execution_count": 132,
   "outputs": [],
   "source": [
    "random_job = data.sample(n=1,random_state=1)"
   ],
   "metadata": {
    "collapsed": false
   }
  },
  {
   "cell_type": "code",
   "execution_count": 133,
   "outputs": [
    {
     "name": "stdout",
     "output_type": "stream",
     "text": [
      "17765    IT Software - System Programming\n",
      "Name: skills, dtype: object\n",
      "17765    IT-Software\n",
      "Name: industry, dtype: object\n"
     ]
    }
   ],
   "source": [
    "print(random_job['skills'])\n",
    "print(random_job['industry'])"
   ],
   "metadata": {
    "collapsed": false
   }
  },
  {
   "cell_type": "code",
   "execution_count": 137,
   "outputs": [],
   "source": [
    "#pred  = predictNew(message=random_job['skills'], preprocessor=preprocess, model=loaded_model)\n",
    "#print(pred)"
   ],
   "metadata": {
    "collapsed": false
   }
  },
  {
   "cell_type": "code",
   "execution_count": 140,
   "outputs": [],
   "source": [
    "# Recommendations\n",
    "# Sort the jobs on the basis of postdate, the jobs posted earlier are about to close so\n",
    "# They need to be recommended on priority basis\n",
    "recommendation_df = data[data['industry'] == pred].sort_values(by='postdate', ascending=True)\n",
    "n_recommendations = 200\n",
    "# Show the first 200 recommendations\n",
    "recommendations = recommendation_df.iloc[:,:n_recommendations]"
   ],
   "metadata": {
    "collapsed": false
   }
  },
  {
   "cell_type": "code",
   "execution_count": 141,
   "outputs": [
    {
     "data": {
      "text/plain": "                                                 company  \\\n4782                                           Kaay Labs   \n4357                                           Kaay Labs   \n4573                                           Kaay Labs   \n3735                                  Psiog Data Science   \n9730                   Career Network hiring for Top MNC   \n...                                                  ...   \n20363                         Prokarma Softech Pvt. Ltd.   \n21274                  CipherCloud India Private Limited   \n21569                            Focus Softnet Pvt. Ltd.   \n21390  Quest Consulting Services hiring for Leading M...   \n21032  Surgical Information Systems India Pvt.Ltd. ( ...   \n\n                                               education  experience  \\\n4782   UG: Any Graduate - Any Specialization, Graduat...  9 - 14 yrs   \n4357   UG: Any Graduate - Any Specialization, Graduat...   1 - 2 yrs   \n4573   UG: Any Graduate - Any Specialization, Graduat...  5 - 10 yrs   \n3735   UG: Any Graduate - Any Specialization PG:MBA/P...   3 - 6 yrs   \n9730   UG: Any Graduate - Any Specialization PG:Any P...  9 - 14 yrs   \n...                                                  ...         ...   \n20363  UG: Any Graduate - Any Specialization, Graduat...   4 - 9 yrs   \n21274  UG: B.Tech/B.E. - Any Specialization PG:M.Tech...  5 - 10 yrs   \n21569  UG: Any Graduate - Any Specialization PG:MBA/P...   2 - 4 yrs   \n21390  UG: Any Graduate - Any Specialization, B.Tech/...   5 - 8 yrs   \n21032  UG: Any Graduate - Any Specialization, Graduat...   4 - 9 yrs   \n\n          industry                                     jobdescription  \\\n4782   IT-Software  Job Description   Send me Jobs like this Andro...   \n4357   IT-Software  Job Description   Send me Jobs like this Linux...   \n4573   IT-Software  Job Description   Send me Jobs like this cassa...   \n3735   IT-Software  Job Description   Send me Jobs like this A bri...   \n9730   IT-Software  Job Description   Send me Jobs like this Exper...   \n...            ...                                                ...   \n20363  IT-Software  Job Description   Send me Jobs like this Exper...   \n21274  IT-Software  Job Description   Send me Jobs like this Hello...   \n21569  IT-Software  Job Description   Send me Jobs like this -Our ...   \n21390  IT-Software  Job Description   Send me Jobs like this Shoul...   \n21032  IT-Software  Job Description   Send me Jobs like this Hi Gr...   \n\n              jobid joblocation_address  \\\n4782   161015002907             Chennai   \n4357   181015000005             Chennai   \n4573   161015003432             Chennai   \n3735   200815000502             Chennai   \n9730   301215005515           Bangalore   \n...             ...                 ...   \n20363   41116006236           Hyderabad   \n21274  191216000699           Hyderabad   \n21569  120416004021           Hyderabad   \n21390   41116001527           Hyderabad   \n21032   71116000382           Hyderabad   \n\n                                                jobtitle  \\\n4782                          Mobile Solution Architects   \n4357                                 Linux Administrator   \n4573                                           Cassandra   \n3735   Core Java (data Structures/algorithms) - Data ...   \n9730   Immediate Openings for Abinitio Professionals ...   \n...                                                  ...   \n20363           J2EE - Software Devloper / Sr. Developer   \n21274  Software Engineer / Senior Software Engineer -...   \n21569  Technical Support Consultant (ERP Support with...   \n21390        SAP BPC Consultant Hyderabad Openings Quest   \n21032              Immediate Opening for .Net Developer.   \n\n                                 payrate              postdate  \\\n4782   50,00,000 - 50,00,000 & above P.A                         \n4357             1,00,000 - 6,00,000 P.A                         \n4573             4,00,000 - 9,00,000 P.A                         \n3735            7,00,000 - 17,00,000 P.A                         \n9730          Not Disclosed by Recruiter                         \n...                                  ...                   ...   \n20363         Not Disclosed by Recruiter  2017-01-10 18:18:34    \n21274         Not Disclosed by Recruiter  2017-01-10 18:19:23    \n21569  Salaries are best in the industry  2017-01-10 18:19:38    \n21390         Not Disclosed by Recruiter  2017-01-11 21:00:00    \n21032         Not Disclosed by Recruiter  2017-01-11 21:00:00    \n\n                                      skills  \\\n4782   IT Software - Application Programming   \n4357    IT Software - Network Administration   \n4573   IT Software - Application Programming   \n3735        IT Software - System Programming   \n9730   IT Software - Application Programming   \n...                                      ...   \n20363  IT Software - Application Programming   \n21274  IT Software - Application Programming   \n21569                      IT Software - ERP   \n21390                      IT Software - ERP   \n21032       IT Software - System Programming   \n\n                                uniq_id  experience_lower  experience_upper  \\\n4782   a9ea62e49868cb9e95bea8e74726d30c                 9                14   \n4357   6facfd7b4346864f5415b5acb89e263a                 1                 2   \n4573   16849630645c5ada30956fc2256bbf34                 5                10   \n3735   426693a9122ada601d3506af9865cb1e                 3                 6   \n9730   e48c1c8fcb10b6ce86c768d1ba8501fa                 9                14   \n...                                 ...               ...               ...   \n20363  690e5f11cd4a57f50936c504ad2b4d59                 4                 9   \n21274  94d165394f843847c16e113fb68e206a                 5                10   \n21569  ed91c6a1b971ee8f4eb45962a13eb015                 2                 4   \n21390  1948ff85eb8c2b907c4e16dd258f0170                 5                 8   \n21032  c32dc5f3cfaabccd3a478dd4fb948eba                 4                 9   \n\n           job_age Education                   Skills  \n4782   2491.479109       Any  Application Programming  \n4357   2491.479109       Any   Network Administration  \n4573   2491.479109       Any  Application Programming  \n3735   2491.479109       Any       System Programming  \n9730   2491.479109       Any  Application Programming  \n...            ...       ...                      ...  \n20363  2233.000000       Any  Application Programming  \n21274  2233.000000    B.Tech  Application Programming  \n21569  2233.000000       Any                      ERP  \n21390  2232.000000       Any                      ERP  \n21032  2232.000000       Any       System Programming  \n\n[9216 rows x 17 columns]",
      "text/html": "<div>\n<style scoped>\n    .dataframe tbody tr th:only-of-type {\n        vertical-align: middle;\n    }\n\n    .dataframe tbody tr th {\n        vertical-align: top;\n    }\n\n    .dataframe thead th {\n        text-align: right;\n    }\n</style>\n<table border=\"1\" class=\"dataframe\">\n  <thead>\n    <tr style=\"text-align: right;\">\n      <th></th>\n      <th>company</th>\n      <th>education</th>\n      <th>experience</th>\n      <th>industry</th>\n      <th>jobdescription</th>\n      <th>jobid</th>\n      <th>joblocation_address</th>\n      <th>jobtitle</th>\n      <th>payrate</th>\n      <th>postdate</th>\n      <th>skills</th>\n      <th>uniq_id</th>\n      <th>experience_lower</th>\n      <th>experience_upper</th>\n      <th>job_age</th>\n      <th>Education</th>\n      <th>Skills</th>\n    </tr>\n  </thead>\n  <tbody>\n    <tr>\n      <th>4782</th>\n      <td>Kaay Labs</td>\n      <td>UG: Any Graduate - Any Specialization, Graduat...</td>\n      <td>9 - 14 yrs</td>\n      <td>IT-Software</td>\n      <td>Job Description   Send me Jobs like this Andro...</td>\n      <td>161015002907</td>\n      <td>Chennai</td>\n      <td>Mobile Solution Architects</td>\n      <td>50,00,000 - 50,00,000 &amp; above P.A</td>\n      <td></td>\n      <td>IT Software - Application Programming</td>\n      <td>a9ea62e49868cb9e95bea8e74726d30c</td>\n      <td>9</td>\n      <td>14</td>\n      <td>2491.479109</td>\n      <td>Any</td>\n      <td>Application Programming</td>\n    </tr>\n    <tr>\n      <th>4357</th>\n      <td>Kaay Labs</td>\n      <td>UG: Any Graduate - Any Specialization, Graduat...</td>\n      <td>1 - 2 yrs</td>\n      <td>IT-Software</td>\n      <td>Job Description   Send me Jobs like this Linux...</td>\n      <td>181015000005</td>\n      <td>Chennai</td>\n      <td>Linux Administrator</td>\n      <td>1,00,000 - 6,00,000 P.A</td>\n      <td></td>\n      <td>IT Software - Network Administration</td>\n      <td>6facfd7b4346864f5415b5acb89e263a</td>\n      <td>1</td>\n      <td>2</td>\n      <td>2491.479109</td>\n      <td>Any</td>\n      <td>Network Administration</td>\n    </tr>\n    <tr>\n      <th>4573</th>\n      <td>Kaay Labs</td>\n      <td>UG: Any Graduate - Any Specialization, Graduat...</td>\n      <td>5 - 10 yrs</td>\n      <td>IT-Software</td>\n      <td>Job Description   Send me Jobs like this cassa...</td>\n      <td>161015003432</td>\n      <td>Chennai</td>\n      <td>Cassandra</td>\n      <td>4,00,000 - 9,00,000 P.A</td>\n      <td></td>\n      <td>IT Software - Application Programming</td>\n      <td>16849630645c5ada30956fc2256bbf34</td>\n      <td>5</td>\n      <td>10</td>\n      <td>2491.479109</td>\n      <td>Any</td>\n      <td>Application Programming</td>\n    </tr>\n    <tr>\n      <th>3735</th>\n      <td>Psiog Data Science</td>\n      <td>UG: Any Graduate - Any Specialization PG:MBA/P...</td>\n      <td>3 - 6 yrs</td>\n      <td>IT-Software</td>\n      <td>Job Description   Send me Jobs like this A bri...</td>\n      <td>200815000502</td>\n      <td>Chennai</td>\n      <td>Core Java (data Structures/algorithms) - Data ...</td>\n      <td>7,00,000 - 17,00,000 P.A</td>\n      <td></td>\n      <td>IT Software - System Programming</td>\n      <td>426693a9122ada601d3506af9865cb1e</td>\n      <td>3</td>\n      <td>6</td>\n      <td>2491.479109</td>\n      <td>Any</td>\n      <td>System Programming</td>\n    </tr>\n    <tr>\n      <th>9730</th>\n      <td>Career Network hiring for Top MNC</td>\n      <td>UG: Any Graduate - Any Specialization PG:Any P...</td>\n      <td>9 - 14 yrs</td>\n      <td>IT-Software</td>\n      <td>Job Description   Send me Jobs like this Exper...</td>\n      <td>301215005515</td>\n      <td>Bangalore</td>\n      <td>Immediate Openings for Abinitio Professionals ...</td>\n      <td>Not Disclosed by Recruiter</td>\n      <td></td>\n      <td>IT Software - Application Programming</td>\n      <td>e48c1c8fcb10b6ce86c768d1ba8501fa</td>\n      <td>9</td>\n      <td>14</td>\n      <td>2491.479109</td>\n      <td>Any</td>\n      <td>Application Programming</td>\n    </tr>\n    <tr>\n      <th>...</th>\n      <td>...</td>\n      <td>...</td>\n      <td>...</td>\n      <td>...</td>\n      <td>...</td>\n      <td>...</td>\n      <td>...</td>\n      <td>...</td>\n      <td>...</td>\n      <td>...</td>\n      <td>...</td>\n      <td>...</td>\n      <td>...</td>\n      <td>...</td>\n      <td>...</td>\n      <td>...</td>\n      <td>...</td>\n    </tr>\n    <tr>\n      <th>20363</th>\n      <td>Prokarma Softech Pvt. Ltd.</td>\n      <td>UG: Any Graduate - Any Specialization, Graduat...</td>\n      <td>4 - 9 yrs</td>\n      <td>IT-Software</td>\n      <td>Job Description   Send me Jobs like this Exper...</td>\n      <td>41116006236</td>\n      <td>Hyderabad</td>\n      <td>J2EE - Software Devloper / Sr. Developer</td>\n      <td>Not Disclosed by Recruiter</td>\n      <td>2017-01-10 18:18:34</td>\n      <td>IT Software - Application Programming</td>\n      <td>690e5f11cd4a57f50936c504ad2b4d59</td>\n      <td>4</td>\n      <td>9</td>\n      <td>2233.000000</td>\n      <td>Any</td>\n      <td>Application Programming</td>\n    </tr>\n    <tr>\n      <th>21274</th>\n      <td>CipherCloud India Private Limited</td>\n      <td>UG: B.Tech/B.E. - Any Specialization PG:M.Tech...</td>\n      <td>5 - 10 yrs</td>\n      <td>IT-Software</td>\n      <td>Job Description   Send me Jobs like this Hello...</td>\n      <td>191216000699</td>\n      <td>Hyderabad</td>\n      <td>Software Engineer / Senior Software Engineer -...</td>\n      <td>Not Disclosed by Recruiter</td>\n      <td>2017-01-10 18:19:23</td>\n      <td>IT Software - Application Programming</td>\n      <td>94d165394f843847c16e113fb68e206a</td>\n      <td>5</td>\n      <td>10</td>\n      <td>2233.000000</td>\n      <td>B.Tech</td>\n      <td>Application Programming</td>\n    </tr>\n    <tr>\n      <th>21569</th>\n      <td>Focus Softnet Pvt. Ltd.</td>\n      <td>UG: Any Graduate - Any Specialization PG:MBA/P...</td>\n      <td>2 - 4 yrs</td>\n      <td>IT-Software</td>\n      <td>Job Description   Send me Jobs like this -Our ...</td>\n      <td>120416004021</td>\n      <td>Hyderabad</td>\n      <td>Technical Support Consultant (ERP Support with...</td>\n      <td>Salaries are best in the industry</td>\n      <td>2017-01-10 18:19:38</td>\n      <td>IT Software - ERP</td>\n      <td>ed91c6a1b971ee8f4eb45962a13eb015</td>\n      <td>2</td>\n      <td>4</td>\n      <td>2233.000000</td>\n      <td>Any</td>\n      <td>ERP</td>\n    </tr>\n    <tr>\n      <th>21390</th>\n      <td>Quest Consulting Services hiring for Leading M...</td>\n      <td>UG: Any Graduate - Any Specialization, B.Tech/...</td>\n      <td>5 - 8 yrs</td>\n      <td>IT-Software</td>\n      <td>Job Description   Send me Jobs like this Shoul...</td>\n      <td>41116001527</td>\n      <td>Hyderabad</td>\n      <td>SAP BPC Consultant Hyderabad Openings Quest</td>\n      <td>Not Disclosed by Recruiter</td>\n      <td>2017-01-11 21:00:00</td>\n      <td>IT Software - ERP</td>\n      <td>1948ff85eb8c2b907c4e16dd258f0170</td>\n      <td>5</td>\n      <td>8</td>\n      <td>2232.000000</td>\n      <td>Any</td>\n      <td>ERP</td>\n    </tr>\n    <tr>\n      <th>21032</th>\n      <td>Surgical Information Systems India Pvt.Ltd. ( ...</td>\n      <td>UG: Any Graduate - Any Specialization, Graduat...</td>\n      <td>4 - 9 yrs</td>\n      <td>IT-Software</td>\n      <td>Job Description   Send me Jobs like this Hi Gr...</td>\n      <td>71116000382</td>\n      <td>Hyderabad</td>\n      <td>Immediate Opening for .Net Developer.</td>\n      <td>Not Disclosed by Recruiter</td>\n      <td>2017-01-11 21:00:00</td>\n      <td>IT Software - System Programming</td>\n      <td>c32dc5f3cfaabccd3a478dd4fb948eba</td>\n      <td>4</td>\n      <td>9</td>\n      <td>2232.000000</td>\n      <td>Any</td>\n      <td>System Programming</td>\n    </tr>\n  </tbody>\n</table>\n<p>9216 rows × 17 columns</p>\n</div>"
     },
     "execution_count": 141,
     "metadata": {},
     "output_type": "execute_result"
    }
   ],
   "source": [
    "recommendations"
   ],
   "metadata": {
    "collapsed": false
   }
  },
  {
   "cell_type": "code",
   "execution_count": null,
   "outputs": [],
   "source": [],
   "metadata": {
    "collapsed": false
   }
  }
 ],
 "metadata": {
  "kernelspec": {
   "display_name": "Python 3",
   "language": "python",
   "name": "python3"
  },
  "language_info": {
   "codemirror_mode": {
    "name": "ipython",
    "version": 2
   },
   "file_extension": ".py",
   "mimetype": "text/x-python",
   "name": "python",
   "nbconvert_exporter": "python",
   "pygments_lexer": "ipython2",
   "version": "2.7.6"
  }
 },
 "nbformat": 4,
 "nbformat_minor": 0
}
